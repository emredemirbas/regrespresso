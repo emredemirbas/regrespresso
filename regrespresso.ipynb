{
  "nbformat": 4,
  "nbformat_minor": 0,
  "metadata": {
    "colab": {
      "provenance": []
    },
    "kernelspec": {
      "name": "python3",
      "display_name": "Python 3"
    },
    "language_info": {
      "name": "python"
    }
  },
  "cells": [
    {
      "cell_type": "markdown",
      "source": [
        "**Regrespresso**"
      ],
      "metadata": {
        "id": "F6WW3YH4tWAj"
      }
    },
    {
      "cell_type": "markdown",
      "source": [
        "See all Google colab shortcuts: CTRL + M + H\n",
        "\n",
        "To see docstring or source code, apply the following:\n",
        "\n",
        "housing.columns.tolist?\n",
        "\n",
        "housing.columns.tolist??\n",
        "\n",
        "or housing.columns.tolist(<press_shift_tab_here>)"
      ],
      "metadata": {
        "id": "QPFEjVJr3cTG"
      }
    },
    {
      "cell_type": "markdown",
      "source": [
        "This project requires Python 3.7 or above"
      ],
      "metadata": {
        "id": "IhnXNgLktoxa"
      }
    },
    {
      "cell_type": "code",
      "source": [
        "import sys\n",
        "\n",
        "assert sys.version_info >= (3, 7)"
      ],
      "metadata": {
        "id": "CST4SElqo2RU"
      },
      "execution_count": 1,
      "outputs": []
    },
    {
      "cell_type": "markdown",
      "source": [
        "It also requires Scikit-Learn >= 1.0.1"
      ],
      "metadata": {
        "id": "nmkb9x8AtvS1"
      }
    },
    {
      "cell_type": "code",
      "source": [
        "from packaging import version\n",
        "import sklearn\n",
        "\n",
        "assert version.parse(sklearn.__version__) >= version.parse(\"1.0.1\")"
      ],
      "metadata": {
        "id": "5w2QVkbdtjlT"
      },
      "execution_count": 2,
      "outputs": []
    },
    {
      "cell_type": "markdown",
      "source": [
        "---"
      ],
      "metadata": {
        "id": "SGWRa1k_fDY3"
      }
    },
    {
      "cell_type": "markdown",
      "source": [
        "# Get the data"
      ],
      "metadata": {
        "id": "0dk-Xntnt8zx"
      }
    },
    {
      "cell_type": "markdown",
      "source": [
        "*Our task is to predict median house values in Californian districts, given #features from these districts.*"
      ],
      "metadata": {
        "id": "Khqp8zIKuLlG"
      }
    },
    {
      "cell_type": "markdown",
      "source": [
        "## Download the Data"
      ],
      "metadata": {
        "id": "LHxjkYHcuXkH"
      }
    },
    {
      "cell_type": "code",
      "source": [
        "from pathlib import Path\n",
        "import pandas as pd\n",
        "import tarfile\n",
        "import urllib.request\n",
        "\n",
        "def load_housing_data():\n",
        "  tarball_path = Path(\"datasets/housing.tgz\")\n",
        "  if not tarball_path.is_file():\n",
        "    Path(\"datasets\").mkdir(parents=True, exist_ok=True)\n",
        "    url = \"https://github.com/ageron/data/raw/main/housing.tgz\"\n",
        "    urllib.request.urlretrieve(url, tarball_path)\n",
        "  with tarfile.open(tarball_path) as housing_tarball:\n",
        "    housing_tarball.extractall(path=\"datasets\")\n",
        "  return pd.read_csv(\"datasets/housing/housing.csv\")\n",
        "\n",
        "housing = load_housing_data()"
      ],
      "metadata": {
        "colab": {
          "base_uri": "https://localhost:8080/"
        },
        "id": "0gamjvDitunM",
        "outputId": "f0f52566-150d-4309-b576-e726ff8ecd84"
      },
      "execution_count": 3,
      "outputs": [
        {
          "output_type": "stream",
          "name": "stderr",
          "text": [
            "/tmp/ipython-input-738195945.py:13: DeprecationWarning: Python 3.14 will, by default, filter extracted tar archives and reject files or modify their metadata. Use the filter argument to control this behavior.\n",
            "  housing_tarball.extractall(path=\"datasets\")\n"
          ]
        }
      ]
    },
    {
      "cell_type": "markdown",
      "source": [
        "## Take a Quick Look at the Data Structure"
      ],
      "metadata": {
        "id": "89kswWgxu9ds"
      }
    },
    {
      "cell_type": "code",
      "source": [
        "housing.head()"
      ],
      "metadata": {
        "colab": {
          "base_uri": "https://localhost:8080/",
          "height": 226
        },
        "id": "B6OGclyKuWf3",
        "outputId": "8d3de373-52d0-4d14-9028-359d93e800e7"
      },
      "execution_count": 4,
      "outputs": [
        {
          "output_type": "execute_result",
          "data": {
            "text/plain": [
              "   longitude  latitude  housing_median_age  total_rooms  total_bedrooms  \\\n",
              "0    -122.23     37.88                41.0        880.0           129.0   \n",
              "1    -122.22     37.86                21.0       7099.0          1106.0   \n",
              "2    -122.24     37.85                52.0       1467.0           190.0   \n",
              "3    -122.25     37.85                52.0       1274.0           235.0   \n",
              "4    -122.25     37.85                52.0       1627.0           280.0   \n",
              "\n",
              "   population  households  median_income  median_house_value ocean_proximity  \n",
              "0       322.0       126.0         8.3252            452600.0        NEAR BAY  \n",
              "1      2401.0      1138.0         8.3014            358500.0        NEAR BAY  \n",
              "2       496.0       177.0         7.2574            352100.0        NEAR BAY  \n",
              "3       558.0       219.0         5.6431            341300.0        NEAR BAY  \n",
              "4       565.0       259.0         3.8462            342200.0        NEAR BAY  "
            ],
            "text/html": [
              "\n",
              "  <div id=\"df-8a6d25e4-0d20-43da-be1a-52f59fed0c4b\" class=\"colab-df-container\">\n",
              "    <div>\n",
              "<style scoped>\n",
              "    .dataframe tbody tr th:only-of-type {\n",
              "        vertical-align: middle;\n",
              "    }\n",
              "\n",
              "    .dataframe tbody tr th {\n",
              "        vertical-align: top;\n",
              "    }\n",
              "\n",
              "    .dataframe thead th {\n",
              "        text-align: right;\n",
              "    }\n",
              "</style>\n",
              "<table border=\"1\" class=\"dataframe\">\n",
              "  <thead>\n",
              "    <tr style=\"text-align: right;\">\n",
              "      <th></th>\n",
              "      <th>longitude</th>\n",
              "      <th>latitude</th>\n",
              "      <th>housing_median_age</th>\n",
              "      <th>total_rooms</th>\n",
              "      <th>total_bedrooms</th>\n",
              "      <th>population</th>\n",
              "      <th>households</th>\n",
              "      <th>median_income</th>\n",
              "      <th>median_house_value</th>\n",
              "      <th>ocean_proximity</th>\n",
              "    </tr>\n",
              "  </thead>\n",
              "  <tbody>\n",
              "    <tr>\n",
              "      <th>0</th>\n",
              "      <td>-122.23</td>\n",
              "      <td>37.88</td>\n",
              "      <td>41.0</td>\n",
              "      <td>880.0</td>\n",
              "      <td>129.0</td>\n",
              "      <td>322.0</td>\n",
              "      <td>126.0</td>\n",
              "      <td>8.3252</td>\n",
              "      <td>452600.0</td>\n",
              "      <td>NEAR BAY</td>\n",
              "    </tr>\n",
              "    <tr>\n",
              "      <th>1</th>\n",
              "      <td>-122.22</td>\n",
              "      <td>37.86</td>\n",
              "      <td>21.0</td>\n",
              "      <td>7099.0</td>\n",
              "      <td>1106.0</td>\n",
              "      <td>2401.0</td>\n",
              "      <td>1138.0</td>\n",
              "      <td>8.3014</td>\n",
              "      <td>358500.0</td>\n",
              "      <td>NEAR BAY</td>\n",
              "    </tr>\n",
              "    <tr>\n",
              "      <th>2</th>\n",
              "      <td>-122.24</td>\n",
              "      <td>37.85</td>\n",
              "      <td>52.0</td>\n",
              "      <td>1467.0</td>\n",
              "      <td>190.0</td>\n",
              "      <td>496.0</td>\n",
              "      <td>177.0</td>\n",
              "      <td>7.2574</td>\n",
              "      <td>352100.0</td>\n",
              "      <td>NEAR BAY</td>\n",
              "    </tr>\n",
              "    <tr>\n",
              "      <th>3</th>\n",
              "      <td>-122.25</td>\n",
              "      <td>37.85</td>\n",
              "      <td>52.0</td>\n",
              "      <td>1274.0</td>\n",
              "      <td>235.0</td>\n",
              "      <td>558.0</td>\n",
              "      <td>219.0</td>\n",
              "      <td>5.6431</td>\n",
              "      <td>341300.0</td>\n",
              "      <td>NEAR BAY</td>\n",
              "    </tr>\n",
              "    <tr>\n",
              "      <th>4</th>\n",
              "      <td>-122.25</td>\n",
              "      <td>37.85</td>\n",
              "      <td>52.0</td>\n",
              "      <td>1627.0</td>\n",
              "      <td>280.0</td>\n",
              "      <td>565.0</td>\n",
              "      <td>259.0</td>\n",
              "      <td>3.8462</td>\n",
              "      <td>342200.0</td>\n",
              "      <td>NEAR BAY</td>\n",
              "    </tr>\n",
              "  </tbody>\n",
              "</table>\n",
              "</div>\n",
              "    <div class=\"colab-df-buttons\">\n",
              "\n",
              "  <div class=\"colab-df-container\">\n",
              "    <button class=\"colab-df-convert\" onclick=\"convertToInteractive('df-8a6d25e4-0d20-43da-be1a-52f59fed0c4b')\"\n",
              "            title=\"Convert this dataframe to an interactive table.\"\n",
              "            style=\"display:none;\">\n",
              "\n",
              "  <svg xmlns=\"http://www.w3.org/2000/svg\" height=\"24px\" viewBox=\"0 -960 960 960\">\n",
              "    <path d=\"M120-120v-720h720v720H120Zm60-500h600v-160H180v160Zm220 220h160v-160H400v160Zm0 220h160v-160H400v160ZM180-400h160v-160H180v160Zm440 0h160v-160H620v160ZM180-180h160v-160H180v160Zm440 0h160v-160H620v160Z\"/>\n",
              "  </svg>\n",
              "    </button>\n",
              "\n",
              "  <style>\n",
              "    .colab-df-container {\n",
              "      display:flex;\n",
              "      gap: 12px;\n",
              "    }\n",
              "\n",
              "    .colab-df-convert {\n",
              "      background-color: #E8F0FE;\n",
              "      border: none;\n",
              "      border-radius: 50%;\n",
              "      cursor: pointer;\n",
              "      display: none;\n",
              "      fill: #1967D2;\n",
              "      height: 32px;\n",
              "      padding: 0 0 0 0;\n",
              "      width: 32px;\n",
              "    }\n",
              "\n",
              "    .colab-df-convert:hover {\n",
              "      background-color: #E2EBFA;\n",
              "      box-shadow: 0px 1px 2px rgba(60, 64, 67, 0.3), 0px 1px 3px 1px rgba(60, 64, 67, 0.15);\n",
              "      fill: #174EA6;\n",
              "    }\n",
              "\n",
              "    .colab-df-buttons div {\n",
              "      margin-bottom: 4px;\n",
              "    }\n",
              "\n",
              "    [theme=dark] .colab-df-convert {\n",
              "      background-color: #3B4455;\n",
              "      fill: #D2E3FC;\n",
              "    }\n",
              "\n",
              "    [theme=dark] .colab-df-convert:hover {\n",
              "      background-color: #434B5C;\n",
              "      box-shadow: 0px 1px 3px 1px rgba(0, 0, 0, 0.15);\n",
              "      filter: drop-shadow(0px 1px 2px rgba(0, 0, 0, 0.3));\n",
              "      fill: #FFFFFF;\n",
              "    }\n",
              "  </style>\n",
              "\n",
              "    <script>\n",
              "      const buttonEl =\n",
              "        document.querySelector('#df-8a6d25e4-0d20-43da-be1a-52f59fed0c4b button.colab-df-convert');\n",
              "      buttonEl.style.display =\n",
              "        google.colab.kernel.accessAllowed ? 'block' : 'none';\n",
              "\n",
              "      async function convertToInteractive(key) {\n",
              "        const element = document.querySelector('#df-8a6d25e4-0d20-43da-be1a-52f59fed0c4b');\n",
              "        const dataTable =\n",
              "          await google.colab.kernel.invokeFunction('convertToInteractive',\n",
              "                                                    [key], {});\n",
              "        if (!dataTable) return;\n",
              "\n",
              "        const docLinkHtml = 'Like what you see? Visit the ' +\n",
              "          '<a target=\"_blank\" href=https://colab.research.google.com/notebooks/data_table.ipynb>data table notebook</a>'\n",
              "          + ' to learn more about interactive tables.';\n",
              "        element.innerHTML = '';\n",
              "        dataTable['output_type'] = 'display_data';\n",
              "        await google.colab.output.renderOutput(dataTable, element);\n",
              "        const docLink = document.createElement('div');\n",
              "        docLink.innerHTML = docLinkHtml;\n",
              "        element.appendChild(docLink);\n",
              "      }\n",
              "    </script>\n",
              "  </div>\n",
              "\n",
              "\n",
              "    <div id=\"df-814db29c-3339-4031-9ddd-a5d310504fbc\">\n",
              "      <button class=\"colab-df-quickchart\" onclick=\"quickchart('df-814db29c-3339-4031-9ddd-a5d310504fbc')\"\n",
              "                title=\"Suggest charts\"\n",
              "                style=\"display:none;\">\n",
              "\n",
              "<svg xmlns=\"http://www.w3.org/2000/svg\" height=\"24px\"viewBox=\"0 0 24 24\"\n",
              "     width=\"24px\">\n",
              "    <g>\n",
              "        <path d=\"M19 3H5c-1.1 0-2 .9-2 2v14c0 1.1.9 2 2 2h14c1.1 0 2-.9 2-2V5c0-1.1-.9-2-2-2zM9 17H7v-7h2v7zm4 0h-2V7h2v10zm4 0h-2v-4h2v4z\"/>\n",
              "    </g>\n",
              "</svg>\n",
              "      </button>\n",
              "\n",
              "<style>\n",
              "  .colab-df-quickchart {\n",
              "      --bg-color: #E8F0FE;\n",
              "      --fill-color: #1967D2;\n",
              "      --hover-bg-color: #E2EBFA;\n",
              "      --hover-fill-color: #174EA6;\n",
              "      --disabled-fill-color: #AAA;\n",
              "      --disabled-bg-color: #DDD;\n",
              "  }\n",
              "\n",
              "  [theme=dark] .colab-df-quickchart {\n",
              "      --bg-color: #3B4455;\n",
              "      --fill-color: #D2E3FC;\n",
              "      --hover-bg-color: #434B5C;\n",
              "      --hover-fill-color: #FFFFFF;\n",
              "      --disabled-bg-color: #3B4455;\n",
              "      --disabled-fill-color: #666;\n",
              "  }\n",
              "\n",
              "  .colab-df-quickchart {\n",
              "    background-color: var(--bg-color);\n",
              "    border: none;\n",
              "    border-radius: 50%;\n",
              "    cursor: pointer;\n",
              "    display: none;\n",
              "    fill: var(--fill-color);\n",
              "    height: 32px;\n",
              "    padding: 0;\n",
              "    width: 32px;\n",
              "  }\n",
              "\n",
              "  .colab-df-quickchart:hover {\n",
              "    background-color: var(--hover-bg-color);\n",
              "    box-shadow: 0 1px 2px rgba(60, 64, 67, 0.3), 0 1px 3px 1px rgba(60, 64, 67, 0.15);\n",
              "    fill: var(--button-hover-fill-color);\n",
              "  }\n",
              "\n",
              "  .colab-df-quickchart-complete:disabled,\n",
              "  .colab-df-quickchart-complete:disabled:hover {\n",
              "    background-color: var(--disabled-bg-color);\n",
              "    fill: var(--disabled-fill-color);\n",
              "    box-shadow: none;\n",
              "  }\n",
              "\n",
              "  .colab-df-spinner {\n",
              "    border: 2px solid var(--fill-color);\n",
              "    border-color: transparent;\n",
              "    border-bottom-color: var(--fill-color);\n",
              "    animation:\n",
              "      spin 1s steps(1) infinite;\n",
              "  }\n",
              "\n",
              "  @keyframes spin {\n",
              "    0% {\n",
              "      border-color: transparent;\n",
              "      border-bottom-color: var(--fill-color);\n",
              "      border-left-color: var(--fill-color);\n",
              "    }\n",
              "    20% {\n",
              "      border-color: transparent;\n",
              "      border-left-color: var(--fill-color);\n",
              "      border-top-color: var(--fill-color);\n",
              "    }\n",
              "    30% {\n",
              "      border-color: transparent;\n",
              "      border-left-color: var(--fill-color);\n",
              "      border-top-color: var(--fill-color);\n",
              "      border-right-color: var(--fill-color);\n",
              "    }\n",
              "    40% {\n",
              "      border-color: transparent;\n",
              "      border-right-color: var(--fill-color);\n",
              "      border-top-color: var(--fill-color);\n",
              "    }\n",
              "    60% {\n",
              "      border-color: transparent;\n",
              "      border-right-color: var(--fill-color);\n",
              "    }\n",
              "    80% {\n",
              "      border-color: transparent;\n",
              "      border-right-color: var(--fill-color);\n",
              "      border-bottom-color: var(--fill-color);\n",
              "    }\n",
              "    90% {\n",
              "      border-color: transparent;\n",
              "      border-bottom-color: var(--fill-color);\n",
              "    }\n",
              "  }\n",
              "</style>\n",
              "\n",
              "      <script>\n",
              "        async function quickchart(key) {\n",
              "          const quickchartButtonEl =\n",
              "            document.querySelector('#' + key + ' button');\n",
              "          quickchartButtonEl.disabled = true;  // To prevent multiple clicks.\n",
              "          quickchartButtonEl.classList.add('colab-df-spinner');\n",
              "          try {\n",
              "            const charts = await google.colab.kernel.invokeFunction(\n",
              "                'suggestCharts', [key], {});\n",
              "          } catch (error) {\n",
              "            console.error('Error during call to suggestCharts:', error);\n",
              "          }\n",
              "          quickchartButtonEl.classList.remove('colab-df-spinner');\n",
              "          quickchartButtonEl.classList.add('colab-df-quickchart-complete');\n",
              "        }\n",
              "        (() => {\n",
              "          let quickchartButtonEl =\n",
              "            document.querySelector('#df-814db29c-3339-4031-9ddd-a5d310504fbc button');\n",
              "          quickchartButtonEl.style.display =\n",
              "            google.colab.kernel.accessAllowed ? 'block' : 'none';\n",
              "        })();\n",
              "      </script>\n",
              "    </div>\n",
              "\n",
              "    </div>\n",
              "  </div>\n"
            ],
            "application/vnd.google.colaboratory.intrinsic+json": {
              "type": "dataframe",
              "variable_name": "housing",
              "summary": "{\n  \"name\": \"housing\",\n  \"rows\": 20640,\n  \"fields\": [\n    {\n      \"column\": \"longitude\",\n      \"properties\": {\n        \"dtype\": \"number\",\n        \"std\": 2.0035317235025802,\n        \"min\": -124.35,\n        \"max\": -114.31,\n        \"num_unique_values\": 844,\n        \"samples\": [\n          -123.39,\n          -122.08,\n          -116.17\n        ],\n        \"semantic_type\": \"\",\n        \"description\": \"\"\n      }\n    },\n    {\n      \"column\": \"latitude\",\n      \"properties\": {\n        \"dtype\": \"number\",\n        \"std\": 2.135952397457107,\n        \"min\": 32.54,\n        \"max\": 41.95,\n        \"num_unique_values\": 862,\n        \"samples\": [\n          36.16,\n          36.28,\n          32.68\n        ],\n        \"semantic_type\": \"\",\n        \"description\": \"\"\n      }\n    },\n    {\n      \"column\": \"housing_median_age\",\n      \"properties\": {\n        \"dtype\": \"number\",\n        \"std\": 12.585557612111748,\n        \"min\": 1.0,\n        \"max\": 52.0,\n        \"num_unique_values\": 52,\n        \"samples\": [\n          35.0,\n          25.0,\n          3.0\n        ],\n        \"semantic_type\": \"\",\n        \"description\": \"\"\n      }\n    },\n    {\n      \"column\": \"total_rooms\",\n      \"properties\": {\n        \"dtype\": \"number\",\n        \"std\": 2181.6152515827785,\n        \"min\": 2.0,\n        \"max\": 39320.0,\n        \"num_unique_values\": 5926,\n        \"samples\": [\n          913.0,\n          1759.0,\n          6434.0\n        ],\n        \"semantic_type\": \"\",\n        \"description\": \"\"\n      }\n    },\n    {\n      \"column\": \"total_bedrooms\",\n      \"properties\": {\n        \"dtype\": \"number\",\n        \"std\": 421.38507007403194,\n        \"min\": 1.0,\n        \"max\": 6445.0,\n        \"num_unique_values\": 1923,\n        \"samples\": [\n          1296.0,\n          3493.0,\n          2035.0\n        ],\n        \"semantic_type\": \"\",\n        \"description\": \"\"\n      }\n    },\n    {\n      \"column\": \"population\",\n      \"properties\": {\n        \"dtype\": \"number\",\n        \"std\": 1132.4621217653341,\n        \"min\": 3.0,\n        \"max\": 35682.0,\n        \"num_unique_values\": 3888,\n        \"samples\": [\n          3622.0,\n          3232.0,\n          2291.0\n        ],\n        \"semantic_type\": \"\",\n        \"description\": \"\"\n      }\n    },\n    {\n      \"column\": \"households\",\n      \"properties\": {\n        \"dtype\": \"number\",\n        \"std\": 382.329752831612,\n        \"min\": 1.0,\n        \"max\": 6082.0,\n        \"num_unique_values\": 1815,\n        \"samples\": [\n          745.0,\n          1248.0,\n          1166.0\n        ],\n        \"semantic_type\": \"\",\n        \"description\": \"\"\n      }\n    },\n    {\n      \"column\": \"median_income\",\n      \"properties\": {\n        \"dtype\": \"number\",\n        \"std\": 1.8998217179452694,\n        \"min\": 0.4999,\n        \"max\": 15.0001,\n        \"num_unique_values\": 12928,\n        \"samples\": [\n          2.5211,\n          4.2454,\n          2.1681\n        ],\n        \"semantic_type\": \"\",\n        \"description\": \"\"\n      }\n    },\n    {\n      \"column\": \"median_house_value\",\n      \"properties\": {\n        \"dtype\": \"number\",\n        \"std\": 115395.61587441301,\n        \"min\": 14999.0,\n        \"max\": 500001.0,\n        \"num_unique_values\": 3842,\n        \"samples\": [\n          400700.0,\n          264900.0,\n          119100.0\n        ],\n        \"semantic_type\": \"\",\n        \"description\": \"\"\n      }\n    },\n    {\n      \"column\": \"ocean_proximity\",\n      \"properties\": {\n        \"dtype\": \"category\",\n        \"num_unique_values\": 5,\n        \"samples\": [\n          \"<1H OCEAN\",\n          \"ISLAND\",\n          \"INLAND\"\n        ],\n        \"semantic_type\": \"\",\n        \"description\": \"\"\n      }\n    }\n  ]\n}"
            }
          },
          "metadata": {},
          "execution_count": 4
        }
      ]
    },
    {
      "cell_type": "code",
      "source": [
        "housing.columns"
      ],
      "metadata": {
        "colab": {
          "base_uri": "https://localhost:8080/"
        },
        "id": "1Y24sk5Wy8pl",
        "outputId": "34bc9a24-2295-4164-df71-6fb762ebecd1"
      },
      "execution_count": 5,
      "outputs": [
        {
          "output_type": "execute_result",
          "data": {
            "text/plain": [
              "Index(['longitude', 'latitude', 'housing_median_age', 'total_rooms',\n",
              "       'total_bedrooms', 'population', 'households', 'median_income',\n",
              "       'median_house_value', 'ocean_proximity'],\n",
              "      dtype='object')"
            ]
          },
          "metadata": {},
          "execution_count": 5
        }
      ]
    },
    {
      "cell_type": "markdown",
      "source": [
        "info() method is useful to get a quick description of the data.\n",
        "in particular\n",
        "\n",
        "• the total number of rows,\n",
        "\n",
        "• each attribute's type\n",
        "\n",
        "• the number of non-null values."
      ],
      "metadata": {
        "id": "Deqslpns3UjO"
      }
    },
    {
      "cell_type": "code",
      "source": [
        "housing.info()"
      ],
      "metadata": {
        "colab": {
          "base_uri": "https://localhost:8080/"
        },
        "id": "1eGSBm2L1Nbw",
        "outputId": "35a4ff07-a935-4ceb-843b-e24d6dd88438"
      },
      "execution_count": 6,
      "outputs": [
        {
          "output_type": "stream",
          "name": "stdout",
          "text": [
            "<class 'pandas.core.frame.DataFrame'>\n",
            "RangeIndex: 20640 entries, 0 to 20639\n",
            "Data columns (total 10 columns):\n",
            " #   Column              Non-Null Count  Dtype  \n",
            "---  ------              --------------  -----  \n",
            " 0   longitude           20640 non-null  float64\n",
            " 1   latitude            20640 non-null  float64\n",
            " 2   housing_median_age  20640 non-null  float64\n",
            " 3   total_rooms         20640 non-null  float64\n",
            " 4   total_bedrooms      20433 non-null  float64\n",
            " 5   population          20640 non-null  float64\n",
            " 6   households          20640 non-null  float64\n",
            " 7   median_income       20640 non-null  float64\n",
            " 8   median_house_value  20640 non-null  float64\n",
            " 9   ocean_proximity     20640 non-null  object \n",
            "dtypes: float64(9), object(1)\n",
            "memory usage: 1.6+ MB\n"
          ]
        }
      ]
    },
    {
      "cell_type": "code",
      "source": [
        "len(housing)"
      ],
      "metadata": {
        "colab": {
          "base_uri": "https://localhost:8080/"
        },
        "id": "4jZrd7aD2SzC",
        "outputId": "3474d5f0-975e-48c0-d84d-b85c866e916d"
      },
      "execution_count": 7,
      "outputs": [
        {
          "output_type": "execute_result",
          "data": {
            "text/plain": [
              "20640"
            ]
          },
          "metadata": {},
          "execution_count": 7
        }
      ]
    },
    {
      "cell_type": "markdown",
      "source": [
        "There are 20,640 instances in the dataset, which means that\n",
        "it is fairly small by ML standards. However, it's perfect to get started.\n",
        "\n",
        "Also, notice that `total_bedrooms` attribute has only 20,433 non-null values, meaning that 207 districts are missing this feature. We'll take care of this later."
      ],
      "metadata": {
        "id": "ObYXlXBG3Fj4"
      }
    },
    {
      "cell_type": "markdown",
      "source": [
        "All attributes are numerical, except for `ocean_proximity`.\n",
        "\n",
        "It's dtype is `object`, so it could hold any kind of Python object. However, keep in mind that `str` dtype is shown as object in pandas."
      ],
      "metadata": {
        "id": "wCUgq3mc4RLl"
      }
    },
    {
      "cell_type": "markdown",
      "source": [
        "You can find out what categories exist and how many districts belong to each category by using the `value_counts()` method."
      ],
      "metadata": {
        "id": "-lvjcQZi49rK"
      }
    },
    {
      "cell_type": "code",
      "source": [
        "housing[\"ocean_proximity\"].value_counts()"
      ],
      "metadata": {
        "colab": {
          "base_uri": "https://localhost:8080/",
          "height": 272
        },
        "id": "HBuAZsSt2bTR",
        "outputId": "879d3db2-13c6-4736-de68-3dfd1a359805"
      },
      "execution_count": 8,
      "outputs": [
        {
          "output_type": "execute_result",
          "data": {
            "text/plain": [
              "ocean_proximity\n",
              "<1H OCEAN     9136\n",
              "INLAND        6551\n",
              "NEAR OCEAN    2658\n",
              "NEAR BAY      2290\n",
              "ISLAND           5\n",
              "Name: count, dtype: int64"
            ],
            "text/html": [
              "<div>\n",
              "<style scoped>\n",
              "    .dataframe tbody tr th:only-of-type {\n",
              "        vertical-align: middle;\n",
              "    }\n",
              "\n",
              "    .dataframe tbody tr th {\n",
              "        vertical-align: top;\n",
              "    }\n",
              "\n",
              "    .dataframe thead th {\n",
              "        text-align: right;\n",
              "    }\n",
              "</style>\n",
              "<table border=\"1\" class=\"dataframe\">\n",
              "  <thead>\n",
              "    <tr style=\"text-align: right;\">\n",
              "      <th></th>\n",
              "      <th>count</th>\n",
              "    </tr>\n",
              "    <tr>\n",
              "      <th>ocean_proximity</th>\n",
              "      <th></th>\n",
              "    </tr>\n",
              "  </thead>\n",
              "  <tbody>\n",
              "    <tr>\n",
              "      <th>&lt;1H OCEAN</th>\n",
              "      <td>9136</td>\n",
              "    </tr>\n",
              "    <tr>\n",
              "      <th>INLAND</th>\n",
              "      <td>6551</td>\n",
              "    </tr>\n",
              "    <tr>\n",
              "      <th>NEAR OCEAN</th>\n",
              "      <td>2658</td>\n",
              "    </tr>\n",
              "    <tr>\n",
              "      <th>NEAR BAY</th>\n",
              "      <td>2290</td>\n",
              "    </tr>\n",
              "    <tr>\n",
              "      <th>ISLAND</th>\n",
              "      <td>5</td>\n",
              "    </tr>\n",
              "  </tbody>\n",
              "</table>\n",
              "</div><br><label><b>dtype:</b> int64</label>"
            ]
          },
          "metadata": {},
          "execution_count": 8
        }
      ]
    },
    {
      "cell_type": "markdown",
      "source": [
        "Also, `unique()` and `nunique()` methods are quite useful for EDA. Name of these methods are self-explanatory."
      ],
      "metadata": {
        "id": "VyVtaNFcXuO0"
      }
    },
    {
      "cell_type": "code",
      "source": [
        "housing[\"ocean_proximity\"].unique()"
      ],
      "metadata": {
        "colab": {
          "base_uri": "https://localhost:8080/"
        },
        "id": "d6T-rNxd30Y3",
        "outputId": "84b6e8dc-bacc-4891-e60a-abcffcb83774"
      },
      "execution_count": 9,
      "outputs": [
        {
          "output_type": "execute_result",
          "data": {
            "text/plain": [
              "array(['NEAR BAY', '<1H OCEAN', 'INLAND', 'NEAR OCEAN', 'ISLAND'],\n",
              "      dtype=object)"
            ]
          },
          "metadata": {},
          "execution_count": 9
        }
      ]
    },
    {
      "cell_type": "code",
      "source": [
        "housing[\"ocean_proximity\"].nunique()"
      ],
      "metadata": {
        "colab": {
          "base_uri": "https://localhost:8080/"
        },
        "id": "KcN6jGuC4MS2",
        "outputId": "9ea26d17-6795-4499-9f3a-a90812b5c73c"
      },
      "execution_count": 10,
      "outputs": [
        {
          "output_type": "execute_result",
          "data": {
            "text/plain": [
              "5"
            ]
          },
          "metadata": {},
          "execution_count": 10
        }
      ]
    },
    {
      "cell_type": "markdown",
      "source": [
        "---"
      ],
      "metadata": {
        "id": "b9vfm9PIfAam"
      }
    },
    {
      "cell_type": "markdown",
      "source": [
        "`describe()` method shows a summary of the numerical attributes."
      ],
      "metadata": {
        "id": "bCRppowaKAF-"
      }
    },
    {
      "cell_type": "code",
      "source": [
        "housing.describe()"
      ],
      "metadata": {
        "colab": {
          "base_uri": "https://localhost:8080/",
          "height": 320
        },
        "id": "LoOh8-yd4dsM",
        "outputId": "883bc251-ff3c-4303-eef3-57fcb5c98c2f"
      },
      "execution_count": 11,
      "outputs": [
        {
          "output_type": "execute_result",
          "data": {
            "text/plain": [
              "          longitude      latitude  housing_median_age   total_rooms  \\\n",
              "count  20640.000000  20640.000000        20640.000000  20640.000000   \n",
              "mean    -119.569704     35.631861           28.639486   2635.763081   \n",
              "std        2.003532      2.135952           12.585558   2181.615252   \n",
              "min     -124.350000     32.540000            1.000000      2.000000   \n",
              "25%     -121.800000     33.930000           18.000000   1447.750000   \n",
              "50%     -118.490000     34.260000           29.000000   2127.000000   \n",
              "75%     -118.010000     37.710000           37.000000   3148.000000   \n",
              "max     -114.310000     41.950000           52.000000  39320.000000   \n",
              "\n",
              "       total_bedrooms    population    households  median_income  \\\n",
              "count    20433.000000  20640.000000  20640.000000   20640.000000   \n",
              "mean       537.870553   1425.476744    499.539680       3.870671   \n",
              "std        421.385070   1132.462122    382.329753       1.899822   \n",
              "min          1.000000      3.000000      1.000000       0.499900   \n",
              "25%        296.000000    787.000000    280.000000       2.563400   \n",
              "50%        435.000000   1166.000000    409.000000       3.534800   \n",
              "75%        647.000000   1725.000000    605.000000       4.743250   \n",
              "max       6445.000000  35682.000000   6082.000000      15.000100   \n",
              "\n",
              "       median_house_value  \n",
              "count        20640.000000  \n",
              "mean        206855.816909  \n",
              "std         115395.615874  \n",
              "min          14999.000000  \n",
              "25%         119600.000000  \n",
              "50%         179700.000000  \n",
              "75%         264725.000000  \n",
              "max         500001.000000  "
            ],
            "text/html": [
              "\n",
              "  <div id=\"df-d408af93-3ffe-44dc-a794-e24b6cad2168\" class=\"colab-df-container\">\n",
              "    <div>\n",
              "<style scoped>\n",
              "    .dataframe tbody tr th:only-of-type {\n",
              "        vertical-align: middle;\n",
              "    }\n",
              "\n",
              "    .dataframe tbody tr th {\n",
              "        vertical-align: top;\n",
              "    }\n",
              "\n",
              "    .dataframe thead th {\n",
              "        text-align: right;\n",
              "    }\n",
              "</style>\n",
              "<table border=\"1\" class=\"dataframe\">\n",
              "  <thead>\n",
              "    <tr style=\"text-align: right;\">\n",
              "      <th></th>\n",
              "      <th>longitude</th>\n",
              "      <th>latitude</th>\n",
              "      <th>housing_median_age</th>\n",
              "      <th>total_rooms</th>\n",
              "      <th>total_bedrooms</th>\n",
              "      <th>population</th>\n",
              "      <th>households</th>\n",
              "      <th>median_income</th>\n",
              "      <th>median_house_value</th>\n",
              "    </tr>\n",
              "  </thead>\n",
              "  <tbody>\n",
              "    <tr>\n",
              "      <th>count</th>\n",
              "      <td>20640.000000</td>\n",
              "      <td>20640.000000</td>\n",
              "      <td>20640.000000</td>\n",
              "      <td>20640.000000</td>\n",
              "      <td>20433.000000</td>\n",
              "      <td>20640.000000</td>\n",
              "      <td>20640.000000</td>\n",
              "      <td>20640.000000</td>\n",
              "      <td>20640.000000</td>\n",
              "    </tr>\n",
              "    <tr>\n",
              "      <th>mean</th>\n",
              "      <td>-119.569704</td>\n",
              "      <td>35.631861</td>\n",
              "      <td>28.639486</td>\n",
              "      <td>2635.763081</td>\n",
              "      <td>537.870553</td>\n",
              "      <td>1425.476744</td>\n",
              "      <td>499.539680</td>\n",
              "      <td>3.870671</td>\n",
              "      <td>206855.816909</td>\n",
              "    </tr>\n",
              "    <tr>\n",
              "      <th>std</th>\n",
              "      <td>2.003532</td>\n",
              "      <td>2.135952</td>\n",
              "      <td>12.585558</td>\n",
              "      <td>2181.615252</td>\n",
              "      <td>421.385070</td>\n",
              "      <td>1132.462122</td>\n",
              "      <td>382.329753</td>\n",
              "      <td>1.899822</td>\n",
              "      <td>115395.615874</td>\n",
              "    </tr>\n",
              "    <tr>\n",
              "      <th>min</th>\n",
              "      <td>-124.350000</td>\n",
              "      <td>32.540000</td>\n",
              "      <td>1.000000</td>\n",
              "      <td>2.000000</td>\n",
              "      <td>1.000000</td>\n",
              "      <td>3.000000</td>\n",
              "      <td>1.000000</td>\n",
              "      <td>0.499900</td>\n",
              "      <td>14999.000000</td>\n",
              "    </tr>\n",
              "    <tr>\n",
              "      <th>25%</th>\n",
              "      <td>-121.800000</td>\n",
              "      <td>33.930000</td>\n",
              "      <td>18.000000</td>\n",
              "      <td>1447.750000</td>\n",
              "      <td>296.000000</td>\n",
              "      <td>787.000000</td>\n",
              "      <td>280.000000</td>\n",
              "      <td>2.563400</td>\n",
              "      <td>119600.000000</td>\n",
              "    </tr>\n",
              "    <tr>\n",
              "      <th>50%</th>\n",
              "      <td>-118.490000</td>\n",
              "      <td>34.260000</td>\n",
              "      <td>29.000000</td>\n",
              "      <td>2127.000000</td>\n",
              "      <td>435.000000</td>\n",
              "      <td>1166.000000</td>\n",
              "      <td>409.000000</td>\n",
              "      <td>3.534800</td>\n",
              "      <td>179700.000000</td>\n",
              "    </tr>\n",
              "    <tr>\n",
              "      <th>75%</th>\n",
              "      <td>-118.010000</td>\n",
              "      <td>37.710000</td>\n",
              "      <td>37.000000</td>\n",
              "      <td>3148.000000</td>\n",
              "      <td>647.000000</td>\n",
              "      <td>1725.000000</td>\n",
              "      <td>605.000000</td>\n",
              "      <td>4.743250</td>\n",
              "      <td>264725.000000</td>\n",
              "    </tr>\n",
              "    <tr>\n",
              "      <th>max</th>\n",
              "      <td>-114.310000</td>\n",
              "      <td>41.950000</td>\n",
              "      <td>52.000000</td>\n",
              "      <td>39320.000000</td>\n",
              "      <td>6445.000000</td>\n",
              "      <td>35682.000000</td>\n",
              "      <td>6082.000000</td>\n",
              "      <td>15.000100</td>\n",
              "      <td>500001.000000</td>\n",
              "    </tr>\n",
              "  </tbody>\n",
              "</table>\n",
              "</div>\n",
              "    <div class=\"colab-df-buttons\">\n",
              "\n",
              "  <div class=\"colab-df-container\">\n",
              "    <button class=\"colab-df-convert\" onclick=\"convertToInteractive('df-d408af93-3ffe-44dc-a794-e24b6cad2168')\"\n",
              "            title=\"Convert this dataframe to an interactive table.\"\n",
              "            style=\"display:none;\">\n",
              "\n",
              "  <svg xmlns=\"http://www.w3.org/2000/svg\" height=\"24px\" viewBox=\"0 -960 960 960\">\n",
              "    <path d=\"M120-120v-720h720v720H120Zm60-500h600v-160H180v160Zm220 220h160v-160H400v160Zm0 220h160v-160H400v160ZM180-400h160v-160H180v160Zm440 0h160v-160H620v160ZM180-180h160v-160H180v160Zm440 0h160v-160H620v160Z\"/>\n",
              "  </svg>\n",
              "    </button>\n",
              "\n",
              "  <style>\n",
              "    .colab-df-container {\n",
              "      display:flex;\n",
              "      gap: 12px;\n",
              "    }\n",
              "\n",
              "    .colab-df-convert {\n",
              "      background-color: #E8F0FE;\n",
              "      border: none;\n",
              "      border-radius: 50%;\n",
              "      cursor: pointer;\n",
              "      display: none;\n",
              "      fill: #1967D2;\n",
              "      height: 32px;\n",
              "      padding: 0 0 0 0;\n",
              "      width: 32px;\n",
              "    }\n",
              "\n",
              "    .colab-df-convert:hover {\n",
              "      background-color: #E2EBFA;\n",
              "      box-shadow: 0px 1px 2px rgba(60, 64, 67, 0.3), 0px 1px 3px 1px rgba(60, 64, 67, 0.15);\n",
              "      fill: #174EA6;\n",
              "    }\n",
              "\n",
              "    .colab-df-buttons div {\n",
              "      margin-bottom: 4px;\n",
              "    }\n",
              "\n",
              "    [theme=dark] .colab-df-convert {\n",
              "      background-color: #3B4455;\n",
              "      fill: #D2E3FC;\n",
              "    }\n",
              "\n",
              "    [theme=dark] .colab-df-convert:hover {\n",
              "      background-color: #434B5C;\n",
              "      box-shadow: 0px 1px 3px 1px rgba(0, 0, 0, 0.15);\n",
              "      filter: drop-shadow(0px 1px 2px rgba(0, 0, 0, 0.3));\n",
              "      fill: #FFFFFF;\n",
              "    }\n",
              "  </style>\n",
              "\n",
              "    <script>\n",
              "      const buttonEl =\n",
              "        document.querySelector('#df-d408af93-3ffe-44dc-a794-e24b6cad2168 button.colab-df-convert');\n",
              "      buttonEl.style.display =\n",
              "        google.colab.kernel.accessAllowed ? 'block' : 'none';\n",
              "\n",
              "      async function convertToInteractive(key) {\n",
              "        const element = document.querySelector('#df-d408af93-3ffe-44dc-a794-e24b6cad2168');\n",
              "        const dataTable =\n",
              "          await google.colab.kernel.invokeFunction('convertToInteractive',\n",
              "                                                    [key], {});\n",
              "        if (!dataTable) return;\n",
              "\n",
              "        const docLinkHtml = 'Like what you see? Visit the ' +\n",
              "          '<a target=\"_blank\" href=https://colab.research.google.com/notebooks/data_table.ipynb>data table notebook</a>'\n",
              "          + ' to learn more about interactive tables.';\n",
              "        element.innerHTML = '';\n",
              "        dataTable['output_type'] = 'display_data';\n",
              "        await google.colab.output.renderOutput(dataTable, element);\n",
              "        const docLink = document.createElement('div');\n",
              "        docLink.innerHTML = docLinkHtml;\n",
              "        element.appendChild(docLink);\n",
              "      }\n",
              "    </script>\n",
              "  </div>\n",
              "\n",
              "\n",
              "    <div id=\"df-c4d5a0a5-8d4c-4b83-bb57-04f10679c5ce\">\n",
              "      <button class=\"colab-df-quickchart\" onclick=\"quickchart('df-c4d5a0a5-8d4c-4b83-bb57-04f10679c5ce')\"\n",
              "                title=\"Suggest charts\"\n",
              "                style=\"display:none;\">\n",
              "\n",
              "<svg xmlns=\"http://www.w3.org/2000/svg\" height=\"24px\"viewBox=\"0 0 24 24\"\n",
              "     width=\"24px\">\n",
              "    <g>\n",
              "        <path d=\"M19 3H5c-1.1 0-2 .9-2 2v14c0 1.1.9 2 2 2h14c1.1 0 2-.9 2-2V5c0-1.1-.9-2-2-2zM9 17H7v-7h2v7zm4 0h-2V7h2v10zm4 0h-2v-4h2v4z\"/>\n",
              "    </g>\n",
              "</svg>\n",
              "      </button>\n",
              "\n",
              "<style>\n",
              "  .colab-df-quickchart {\n",
              "      --bg-color: #E8F0FE;\n",
              "      --fill-color: #1967D2;\n",
              "      --hover-bg-color: #E2EBFA;\n",
              "      --hover-fill-color: #174EA6;\n",
              "      --disabled-fill-color: #AAA;\n",
              "      --disabled-bg-color: #DDD;\n",
              "  }\n",
              "\n",
              "  [theme=dark] .colab-df-quickchart {\n",
              "      --bg-color: #3B4455;\n",
              "      --fill-color: #D2E3FC;\n",
              "      --hover-bg-color: #434B5C;\n",
              "      --hover-fill-color: #FFFFFF;\n",
              "      --disabled-bg-color: #3B4455;\n",
              "      --disabled-fill-color: #666;\n",
              "  }\n",
              "\n",
              "  .colab-df-quickchart {\n",
              "    background-color: var(--bg-color);\n",
              "    border: none;\n",
              "    border-radius: 50%;\n",
              "    cursor: pointer;\n",
              "    display: none;\n",
              "    fill: var(--fill-color);\n",
              "    height: 32px;\n",
              "    padding: 0;\n",
              "    width: 32px;\n",
              "  }\n",
              "\n",
              "  .colab-df-quickchart:hover {\n",
              "    background-color: var(--hover-bg-color);\n",
              "    box-shadow: 0 1px 2px rgba(60, 64, 67, 0.3), 0 1px 3px 1px rgba(60, 64, 67, 0.15);\n",
              "    fill: var(--button-hover-fill-color);\n",
              "  }\n",
              "\n",
              "  .colab-df-quickchart-complete:disabled,\n",
              "  .colab-df-quickchart-complete:disabled:hover {\n",
              "    background-color: var(--disabled-bg-color);\n",
              "    fill: var(--disabled-fill-color);\n",
              "    box-shadow: none;\n",
              "  }\n",
              "\n",
              "  .colab-df-spinner {\n",
              "    border: 2px solid var(--fill-color);\n",
              "    border-color: transparent;\n",
              "    border-bottom-color: var(--fill-color);\n",
              "    animation:\n",
              "      spin 1s steps(1) infinite;\n",
              "  }\n",
              "\n",
              "  @keyframes spin {\n",
              "    0% {\n",
              "      border-color: transparent;\n",
              "      border-bottom-color: var(--fill-color);\n",
              "      border-left-color: var(--fill-color);\n",
              "    }\n",
              "    20% {\n",
              "      border-color: transparent;\n",
              "      border-left-color: var(--fill-color);\n",
              "      border-top-color: var(--fill-color);\n",
              "    }\n",
              "    30% {\n",
              "      border-color: transparent;\n",
              "      border-left-color: var(--fill-color);\n",
              "      border-top-color: var(--fill-color);\n",
              "      border-right-color: var(--fill-color);\n",
              "    }\n",
              "    40% {\n",
              "      border-color: transparent;\n",
              "      border-right-color: var(--fill-color);\n",
              "      border-top-color: var(--fill-color);\n",
              "    }\n",
              "    60% {\n",
              "      border-color: transparent;\n",
              "      border-right-color: var(--fill-color);\n",
              "    }\n",
              "    80% {\n",
              "      border-color: transparent;\n",
              "      border-right-color: var(--fill-color);\n",
              "      border-bottom-color: var(--fill-color);\n",
              "    }\n",
              "    90% {\n",
              "      border-color: transparent;\n",
              "      border-bottom-color: var(--fill-color);\n",
              "    }\n",
              "  }\n",
              "</style>\n",
              "\n",
              "      <script>\n",
              "        async function quickchart(key) {\n",
              "          const quickchartButtonEl =\n",
              "            document.querySelector('#' + key + ' button');\n",
              "          quickchartButtonEl.disabled = true;  // To prevent multiple clicks.\n",
              "          quickchartButtonEl.classList.add('colab-df-spinner');\n",
              "          try {\n",
              "            const charts = await google.colab.kernel.invokeFunction(\n",
              "                'suggestCharts', [key], {});\n",
              "          } catch (error) {\n",
              "            console.error('Error during call to suggestCharts:', error);\n",
              "          }\n",
              "          quickchartButtonEl.classList.remove('colab-df-spinner');\n",
              "          quickchartButtonEl.classList.add('colab-df-quickchart-complete');\n",
              "        }\n",
              "        (() => {\n",
              "          let quickchartButtonEl =\n",
              "            document.querySelector('#df-c4d5a0a5-8d4c-4b83-bb57-04f10679c5ce button');\n",
              "          quickchartButtonEl.style.display =\n",
              "            google.colab.kernel.accessAllowed ? 'block' : 'none';\n",
              "        })();\n",
              "      </script>\n",
              "    </div>\n",
              "\n",
              "    </div>\n",
              "  </div>\n"
            ],
            "application/vnd.google.colaboratory.intrinsic+json": {
              "type": "dataframe",
              "summary": "{\n  \"name\": \"housing\",\n  \"rows\": 8,\n  \"fields\": [\n    {\n      \"column\": \"longitude\",\n      \"properties\": {\n        \"dtype\": \"number\",\n        \"std\": 7333.554670164394,\n        \"min\": -124.35,\n        \"max\": 20640.0,\n        \"num_unique_values\": 8,\n        \"samples\": [\n          -119.56970445736432,\n          -118.49,\n          20640.0\n        ],\n        \"semantic_type\": \"\",\n        \"description\": \"\"\n      }\n    },\n    {\n      \"column\": \"latitude\",\n      \"properties\": {\n        \"dtype\": \"number\",\n        \"std\": 7286.333552413666,\n        \"min\": 2.135952397457107,\n        \"max\": 20640.0,\n        \"num_unique_values\": 8,\n        \"samples\": [\n          35.63186143410853,\n          34.26,\n          20640.0\n        ],\n        \"semantic_type\": \"\",\n        \"description\": \"\"\n      }\n    },\n    {\n      \"column\": \"housing_median_age\",\n      \"properties\": {\n        \"dtype\": \"number\",\n        \"std\": 7288.35672120143,\n        \"min\": 1.0,\n        \"max\": 20640.0,\n        \"num_unique_values\": 8,\n        \"samples\": [\n          28.639486434108527,\n          29.0,\n          20640.0\n        ],\n        \"semantic_type\": \"\",\n        \"description\": \"\"\n      }\n    },\n    {\n      \"column\": \"total_rooms\",\n      \"properties\": {\n        \"dtype\": \"number\",\n        \"std\": 13944.990983306394,\n        \"min\": 2.0,\n        \"max\": 39320.0,\n        \"num_unique_values\": 8,\n        \"samples\": [\n          2635.7630813953488,\n          2127.0,\n          20640.0\n        ],\n        \"semantic_type\": \"\",\n        \"description\": \"\"\n      }\n    },\n    {\n      \"column\": \"total_bedrooms\",\n      \"properties\": {\n        \"dtype\": \"number\",\n        \"std\": 7106.427031043755,\n        \"min\": 1.0,\n        \"max\": 20433.0,\n        \"num_unique_values\": 8,\n        \"samples\": [\n          537.8705525375618,\n          435.0,\n          20433.0\n        ],\n        \"semantic_type\": \"\",\n        \"description\": \"\"\n      }\n    },\n    {\n      \"column\": \"population\",\n      \"properties\": {\n        \"dtype\": \"number\",\n        \"std\": 13192.258841737372,\n        \"min\": 3.0,\n        \"max\": 35682.0,\n        \"num_unique_values\": 8,\n        \"samples\": [\n          1425.4767441860465,\n          1166.0,\n          20640.0\n        ],\n        \"semantic_type\": \"\",\n        \"description\": \"\"\n      }\n    },\n    {\n      \"column\": \"households\",\n      \"properties\": {\n        \"dtype\": \"number\",\n        \"std\": 7167.532601135343,\n        \"min\": 1.0,\n        \"max\": 20640.0,\n        \"num_unique_values\": 8,\n        \"samples\": [\n          499.5396802325581,\n          409.0,\n          20640.0\n        ],\n        \"semantic_type\": \"\",\n        \"description\": \"\"\n      }\n    },\n    {\n      \"column\": \"median_income\",\n      \"properties\": {\n        \"dtype\": \"number\",\n        \"std\": 7295.721435853639,\n        \"min\": 0.4999,\n        \"max\": 20640.0,\n        \"num_unique_values\": 8,\n        \"samples\": [\n          3.8706710029069766,\n          3.5347999999999997,\n          20640.0\n        ],\n        \"semantic_type\": \"\",\n        \"description\": \"\"\n      }\n    },\n    {\n      \"column\": \"median_house_value\",\n      \"properties\": {\n        \"dtype\": \"number\",\n        \"std\": 156160.28379826449,\n        \"min\": 14999.0,\n        \"max\": 500001.0,\n        \"num_unique_values\": 8,\n        \"samples\": [\n          206855.81690891474,\n          179700.0,\n          20640.0\n        ],\n        \"semantic_type\": \"\",\n        \"description\": \"\"\n      }\n    }\n  ]\n}"
            }
          },
          "metadata": {},
          "execution_count": 11
        }
      ]
    },
    {
      "cell_type": "markdown",
      "source": [
        "The 25%, 50% and 75% rows show the corresponding *percentiles*.\n",
        "\n",
        "A percentile indicates the value below which a given percentage of observations in a group observations fall.\n",
        "\n",
        "e.g., 25% of the districts have a `housing_median_age` lower than 18, while 50% are lower than 29 and 75% are lower than 37.\n",
        "\n",
        "Notice that 50% percentile corresponds to *median*."
      ],
      "metadata": {
        "id": "2Gh4Hkc_ZcaG"
      }
    },
    {
      "cell_type": "markdown",
      "source": [
        "---"
      ],
      "metadata": {
        "id": "kcGppmt4e-dR"
      }
    },
    {
      "cell_type": "markdown",
      "source": [
        "*Histogram* is a representation of the distribution of data."
      ],
      "metadata": {
        "id": "5WxbuWwhaZpF"
      }
    },
    {
      "cell_type": "code",
      "source": [
        "import matplotlib.pyplot as plt\n",
        "\n",
        "housing.hist(bins=50, figsize=(12,8))\n",
        "plt.show()"
      ],
      "metadata": {
        "colab": {
          "base_uri": "https://localhost:8080/",
          "height": 699
        },
        "id": "OfT4aXwZZFP3",
        "outputId": "5e97ee2a-30a1-4f2b-a81b-054bfaa4259e"
      },
      "execution_count": 12,
      "outputs": [
        {
          "output_type": "display_data",
          "data": {
            "text/plain": [
              "<Figure size 1200x800 with 9 Axes>"
            ],
            "image/png": "[encoded data removed]"
          },
          "metadata": {}
        }
      ]
    },
    {
      "cell_type": "code",
      "source": [
        "housing[\"median_income\"].describe()"
      ],
      "metadata": {
        "colab": {
          "base_uri": "https://localhost:8080/",
          "height": 335
        },
        "id": "-89EqxSKcFLj",
        "outputId": "1363e827-8600-4be3-9ba8-bac9769761eb"
      },
      "execution_count": 13,
      "outputs": [
        {
          "output_type": "execute_result",
          "data": {
            "text/plain": [
              "count    20640.000000\n",
              "mean         3.870671\n",
              "std          1.899822\n",
              "min          0.499900\n",
              "25%          2.563400\n",
              "50%          3.534800\n",
              "75%          4.743250\n",
              "max         15.000100\n",
              "Name: median_income, dtype: float64"
            ],
            "text/html": [
              "<div>\n",
              "<style scoped>\n",
              "    .dataframe tbody tr th:only-of-type {\n",
              "        vertical-align: middle;\n",
              "    }\n",
              "\n",
              "    .dataframe tbody tr th {\n",
              "        vertical-align: top;\n",
              "    }\n",
              "\n",
              "    .dataframe thead th {\n",
              "        text-align: right;\n",
              "    }\n",
              "</style>\n",
              "<table border=\"1\" class=\"dataframe\">\n",
              "  <thead>\n",
              "    <tr style=\"text-align: right;\">\n",
              "      <th></th>\n",
              "      <th>median_income</th>\n",
              "    </tr>\n",
              "  </thead>\n",
              "  <tbody>\n",
              "    <tr>\n",
              "      <th>count</th>\n",
              "      <td>20640.000000</td>\n",
              "    </tr>\n",
              "    <tr>\n",
              "      <th>mean</th>\n",
              "      <td>3.870671</td>\n",
              "    </tr>\n",
              "    <tr>\n",
              "      <th>std</th>\n",
              "      <td>1.899822</td>\n",
              "    </tr>\n",
              "    <tr>\n",
              "      <th>min</th>\n",
              "      <td>0.499900</td>\n",
              "    </tr>\n",
              "    <tr>\n",
              "      <th>25%</th>\n",
              "      <td>2.563400</td>\n",
              "    </tr>\n",
              "    <tr>\n",
              "      <th>50%</th>\n",
              "      <td>3.534800</td>\n",
              "    </tr>\n",
              "    <tr>\n",
              "      <th>75%</th>\n",
              "      <td>4.743250</td>\n",
              "    </tr>\n",
              "    <tr>\n",
              "      <th>max</th>\n",
              "      <td>15.000100</td>\n",
              "    </tr>\n",
              "  </tbody>\n",
              "</table>\n",
              "</div><br><label><b>dtype:</b> float64</label>"
            ]
          },
          "metadata": {},
          "execution_count": 13
        }
      ]
    },
    {
      "cell_type": "code",
      "source": [
        "housing[\"median_income\"].unique()"
      ],
      "metadata": {
        "colab": {
          "base_uri": "https://localhost:8080/"
        },
        "id": "toykU10hb_Os",
        "outputId": "4c84593a-110a-4795-fd14-33b8dbb2442e"
      },
      "execution_count": 14,
      "outputs": [
        {
          "output_type": "execute_result",
          "data": {
            "text/plain": [
              "array([8.3252, 8.3014, 7.2574, ..., 2.3598, 2.3661, 2.0943])"
            ]
          },
          "metadata": {},
          "execution_count": 14
        }
      ]
    },
    {
      "cell_type": "code",
      "source": [
        "housing[\"median_income\"].min()"
      ],
      "metadata": {
        "colab": {
          "base_uri": "https://localhost:8080/"
        },
        "id": "TjAydYgSZGfJ",
        "outputId": "5700b904-4ffd-438b-9c25-19a4fd9369b4"
      },
      "execution_count": 15,
      "outputs": [
        {
          "output_type": "execute_result",
          "data": {
            "text/plain": [
              "0.4999"
            ]
          },
          "metadata": {},
          "execution_count": 15
        }
      ]
    },
    {
      "cell_type": "code",
      "source": [
        "housing[\"median_income\"].max()"
      ],
      "metadata": {
        "colab": {
          "base_uri": "https://localhost:8080/"
        },
        "id": "OQmyzk9FZGjY",
        "outputId": "402233bf-a0d0-4bd0-8f22-0f5f88de237a"
      },
      "execution_count": 16,
      "outputs": [
        {
          "output_type": "execute_result",
          "data": {
            "text/plain": [
              "15.0001"
            ]
          },
          "metadata": {},
          "execution_count": 16
        }
      ]
    },
    {
      "cell_type": "markdown",
      "source": [
        "Notice that `median_income` attribute is not expressed in USD.\n",
        "\n",
        "3 is actually corresponds to $30,000. (See page 55 for more details)\n",
        "\n",
        "Also, this data has been scaled and capped at 15 (actually, 15001) for higher median incomes, and at 0.5 (actually, 0.4999) for lower median incomes.\n",
        "\n",
        "Note to myself: For better explanation on *data capping*, See [ChatGPT > Projects > CENG463 - Machine Learning > Hands-On ML Chapter 2 Q&A](https://chatgpt.com/g/g-p-68d9442b7b4081918e4e381d8821d00b-ceng463-machine-learning/c/68f4a136-fcdc-8329-b01a-e17222e47a2c)."
      ],
      "metadata": {
        "id": "kY0pJxfmcSKf"
      }
    },
    {
      "cell_type": "markdown",
      "source": [
        "---"
      ],
      "metadata": {
        "id": "azOqVv8Ke5As"
      }
    },
    {
      "cell_type": "code",
      "source": [
        "housing[\"housing_median_age\"].describe()"
      ],
      "metadata": {
        "colab": {
          "base_uri": "https://localhost:8080/",
          "height": 335
        },
        "id": "uaFq7VqHfPpX",
        "outputId": "dd8a098f-a7ce-4902-c864-48556aa6936e"
      },
      "execution_count": 17,
      "outputs": [
        {
          "output_type": "execute_result",
          "data": {
            "text/plain": [
              "count    20640.000000\n",
              "mean        28.639486\n",
              "std         12.585558\n",
              "min          1.000000\n",
              "25%         18.000000\n",
              "50%         29.000000\n",
              "75%         37.000000\n",
              "max         52.000000\n",
              "Name: housing_median_age, dtype: float64"
            ],
            "text/html": [
              "<div>\n",
              "<style scoped>\n",
              "    .dataframe tbody tr th:only-of-type {\n",
              "        vertical-align: middle;\n",
              "    }\n",
              "\n",
              "    .dataframe tbody tr th {\n",
              "        vertical-align: top;\n",
              "    }\n",
              "\n",
              "    .dataframe thead th {\n",
              "        text-align: right;\n",
              "    }\n",
              "</style>\n",
              "<table border=\"1\" class=\"dataframe\">\n",
              "  <thead>\n",
              "    <tr style=\"text-align: right;\">\n",
              "      <th></th>\n",
              "      <th>housing_median_age</th>\n",
              "    </tr>\n",
              "  </thead>\n",
              "  <tbody>\n",
              "    <tr>\n",
              "      <th>count</th>\n",
              "      <td>20640.000000</td>\n",
              "    </tr>\n",
              "    <tr>\n",
              "      <th>mean</th>\n",
              "      <td>28.639486</td>\n",
              "    </tr>\n",
              "    <tr>\n",
              "      <th>std</th>\n",
              "      <td>12.585558</td>\n",
              "    </tr>\n",
              "    <tr>\n",
              "      <th>min</th>\n",
              "      <td>1.000000</td>\n",
              "    </tr>\n",
              "    <tr>\n",
              "      <th>25%</th>\n",
              "      <td>18.000000</td>\n",
              "    </tr>\n",
              "    <tr>\n",
              "      <th>50%</th>\n",
              "      <td>29.000000</td>\n",
              "    </tr>\n",
              "    <tr>\n",
              "      <th>75%</th>\n",
              "      <td>37.000000</td>\n",
              "    </tr>\n",
              "    <tr>\n",
              "      <th>max</th>\n",
              "      <td>52.000000</td>\n",
              "    </tr>\n",
              "  </tbody>\n",
              "</table>\n",
              "</div><br><label><b>dtype:</b> float64</label>"
            ]
          },
          "metadata": {},
          "execution_count": 17
        }
      ]
    },
    {
      "cell_type": "code",
      "source": [
        "housing[\"median_house_value\"].describe()"
      ],
      "metadata": {
        "colab": {
          "base_uri": "https://localhost:8080/",
          "height": 335
        },
        "id": "nfQtKYL7ZGoe",
        "outputId": "41f002de-0a87-4cce-96f8-2f0b5fe69420"
      },
      "execution_count": 18,
      "outputs": [
        {
          "output_type": "execute_result",
          "data": {
            "text/plain": [
              "count     20640.000000\n",
              "mean     206855.816909\n",
              "std      115395.615874\n",
              "min       14999.000000\n",
              "25%      119600.000000\n",
              "50%      179700.000000\n",
              "75%      264725.000000\n",
              "max      500001.000000\n",
              "Name: median_house_value, dtype: float64"
            ],
            "text/html": [
              "<div>\n",
              "<style scoped>\n",
              "    .dataframe tbody tr th:only-of-type {\n",
              "        vertical-align: middle;\n",
              "    }\n",
              "\n",
              "    .dataframe tbody tr th {\n",
              "        vertical-align: top;\n",
              "    }\n",
              "\n",
              "    .dataframe thead th {\n",
              "        text-align: right;\n",
              "    }\n",
              "</style>\n",
              "<table border=\"1\" class=\"dataframe\">\n",
              "  <thead>\n",
              "    <tr style=\"text-align: right;\">\n",
              "      <th></th>\n",
              "      <th>median_house_value</th>\n",
              "    </tr>\n",
              "  </thead>\n",
              "  <tbody>\n",
              "    <tr>\n",
              "      <th>count</th>\n",
              "      <td>20640.000000</td>\n",
              "    </tr>\n",
              "    <tr>\n",
              "      <th>mean</th>\n",
              "      <td>206855.816909</td>\n",
              "    </tr>\n",
              "    <tr>\n",
              "      <th>std</th>\n",
              "      <td>115395.615874</td>\n",
              "    </tr>\n",
              "    <tr>\n",
              "      <th>min</th>\n",
              "      <td>14999.000000</td>\n",
              "    </tr>\n",
              "    <tr>\n",
              "      <th>25%</th>\n",
              "      <td>119600.000000</td>\n",
              "    </tr>\n",
              "    <tr>\n",
              "      <th>50%</th>\n",
              "      <td>179700.000000</td>\n",
              "    </tr>\n",
              "    <tr>\n",
              "      <th>75%</th>\n",
              "      <td>264725.000000</td>\n",
              "    </tr>\n",
              "    <tr>\n",
              "      <th>max</th>\n",
              "      <td>500001.000000</td>\n",
              "    </tr>\n",
              "  </tbody>\n",
              "</table>\n",
              "</div><br><label><b>dtype:</b> float64</label>"
            ]
          },
          "metadata": {},
          "execution_count": 18
        }
      ]
    },
    {
      "cell_type": "markdown",
      "source": [
        "`housing_median_age` and `median_house_value` attributes are also capped (truncated).\n",
        "\n",
        "Note that `median_house_value` is our target attribute (**y**).\n",
        "\n",
        "Especially, capping the target value is dangerous.\n",
        "\n",
        "More technically, y' = min(y, 500,000)\n",
        "\n",
        "i.e., \\$800k is capped down to \\$500k, \\$10k -> \\$15k, etc.\n",
        "\n",
        "In this case, the ML algorithms may learn that prices never go beyond that limit.\n",
        "\n",
        "Ask the team that will use the system's output to see if this is a problem or not. If they tell you that they need precise predictions even beyond \\$500k, then you have two options:\n",
        "\n",
        "- Collect proper labels for districts whose labels were capped. (i.e., somehow obtain the real prices of those houses)\n",
        "\n",
        "- Remove those districts from the training set (and also from the test set, since your system should not be evaluated poorly if it predicts values beyond \\$500k.)\n",
        "\n",
        "This is problematic because if you don't deal with this, your model will \"believe\" that house prices never go beyond \\$500k. So if you give it features of a very expensive neighborhood, it will still predict something close to \\$500k because that's all it has seen.\n",
        "\n",
        "This creates a **biased model**, since it cannot generalize beyond that artificial limit.\n"
      ],
      "metadata": {
        "id": "NDuUhsjBfokm"
      }
    },
    {
      "cell_type": "markdown",
      "source": [
        "Also, attributes have very different scales. (Feature Scaling is needed, if you use Gradient Descent for training, otherwise the algorithm works slower)."
      ],
      "metadata": {
        "id": "rqBNOZjZxTjl"
      }
    },
    {
      "cell_type": "markdown",
      "source": [
        "The book says that many histograms are *skewed right* -> COULDN'T UNDERSTAND IT, I'M GONNA ASK IT TO CHATGPT"
      ],
      "metadata": {
        "id": "8xcrrnlexd72"
      }
    },
    {
      "cell_type": "markdown",
      "source": [
        "---"
      ],
      "metadata": {
        "id": "s0ttmUz-xmMA"
      }
    },
    {
      "cell_type": "markdown",
      "source": [
        "# Create a Test Set"
      ],
      "metadata": {
        "id": "G1xXxhoSxoEH"
      }
    },
    {
      "cell_type": "markdown",
      "source": [
        "Best practice: Create test set before any analysis.\n",
        "\n",
        "At first, it may feel strange to hide part of your dataset right away. You might think \"I barely looked at the data yet, shouldn't I analyze it first and then decide what to do?\"\n",
        "\n",
        "Human brain is prone to overfitting. If you keep looking at **all** of your data while testing different models, you will start noticing small patterns that happen by chance (which are not-generalizable patterns). So, if you adapt your choices to those random, accidental patterns (noises), you are effectively overfitting to your dataset (not in technical way, but due to the way of how human brain works).\n",
        "\n",
        "When you later evaluate your model on the same data you used during exploration or model tuning, the results will look too good to be true. Because you've already peeked at how the data distributes and made choices that fit it perfectly. However, when you deploy the model in the real world (with new unseen data), performance drops. This false optimism is called *data snooping bias* (or *data leakage* in other contexts). (see https://en.wikipedia.org/wiki/Leakage_(machine_learning)\n",
        "\n",
        "To avoid this,\n",
        "\n",
        "- Immediately set aside part of your data as a test set. (typically, 20%)\n",
        "- Never touch it until the very end. Not for exploration, visualization or feature selection. Because the test set **MUST** represent the unseen data, as if it came from the real world in the future. If you are the one who is making choices to improve your ML model's success (generalization). You may start making modeling decisions based on information that you shouldn't know yet. This problem is known as *data leakage* (or *data snooping* bias).\n",
        "- Use the remaining 80% as your training data, and within that you can still split a validation set or use cross-validation later.\n",
        "\n",
        "tldr: After once you have taken a quick glance at the data, you must set aside a test set early to protect yourself from your own cleverness, because even unconsciously, you might overfit yout entire project to the data you've already seen.\n"
      ],
      "metadata": {
        "id": "caj_XWojpBA2"
      }
    },
    {
      "cell_type": "markdown",
      "source": [
        "Creating a test set is simple in theory:\n",
        "\n",
        "- Pick some instances randomly (20% in general)\n",
        "\n",
        "However, if the dataset is gigantic, you may create with less percentage."
      ],
      "metadata": {
        "id": "k379EWba5U0x"
      }
    },
    {
      "cell_type": "code",
      "source": [
        "import numpy as np\n",
        "\n",
        "def shuffle_and_split_data(data, test_ratio):\n",
        "  m = len(data) # num of rows in df\n",
        "  shuffled_indices = np.random.permutation(m)\n",
        "  test_set_size = int(m * test_ratio)\n",
        "  test_indices = shuffled_indices[:test_set_size] # pick the indices in range [0, test_set_size)\n",
        "  train_indices = shuffled_indices[test_set_size:] # range: [test_set_size, m)\n",
        "  train_set = data.iloc[train_indices]\n",
        "  test_set = data.iloc[test_indices]\n",
        "  return train_set, test_set # return as 2-tuple"
      ],
      "metadata": {
        "id": "N5sCAwNqch26"
      },
      "execution_count": 19,
      "outputs": []
    },
    {
      "cell_type": "code",
      "source": [
        "train_set, test_set = shuffle_and_split_data(data=housing, test_ratio=0.2)"
      ],
      "metadata": {
        "id": "gFwtmFUl7UxA"
      },
      "execution_count": 20,
      "outputs": []
    },
    {
      "cell_type": "code",
      "source": [
        "len(train_set)"
      ],
      "metadata": {
        "colab": {
          "base_uri": "https://localhost:8080/"
        },
        "id": "JeRTc7Fv7WcG",
        "outputId": "915f841c-2a55-4b3d-a4ea-2fcdfbbd66a4"
      },
      "execution_count": 21,
      "outputs": [
        {
          "output_type": "execute_result",
          "data": {
            "text/plain": [
              "16512"
            ]
          },
          "metadata": {},
          "execution_count": 21
        }
      ]
    },
    {
      "cell_type": "code",
      "source": [
        "len(test_set)"
      ],
      "metadata": {
        "colab": {
          "base_uri": "https://localhost:8080/"
        },
        "id": "fmJ0YoCv7WZr",
        "outputId": "3a6ce8fb-9f80-4eb0-d590-318d668af951"
      },
      "execution_count": 22,
      "outputs": [
        {
          "output_type": "execute_result",
          "data": {
            "text/plain": [
              "4128"
            ]
          },
          "metadata": {},
          "execution_count": 22
        }
      ]
    },
    {
      "cell_type": "markdown",
      "source": [
        "However, notice that if you use `shuffle_and_split_data()` and run the program again, it will generate a different test set! Over time, you (or your ML algorithms) will get to see the whole dataset, which is you want to avoid.\n",
        "\n",
        "Possible Solutions to that:\n",
        "- Save the test set and then load it in subsequent runs\n",
        "- Set the random number generator's seed, via `np.random.seed()`\n",
        "\n",
        "\n",
        "Normally, for train and test split, Scikit-Learn comes with `train_test_split`.\n",
        "\n",
        "e.g.,\n",
        "\n",
        "`from sklearn.model_selection import train_test_split`\n",
        "\n",
        "`train_set, test_set = train_test_split(data, test_size=0.2, random_state=42)`\n",
        "\n",
        "`train_test_split` works fine **if your dataset does not change**.\n",
        "\n",
        "But how can you guarantee that your dataset won't change? Is there a way to have a stable train/test split after the dataset is updated?\n",
        "\n",
        "For example:\n",
        "Suppose you download an updated version of the dataset next month. Some new rows are added, or a few are deleted. If you shuffle and split again, the random permutation changes. Therefore, the test set changes.\n",
        "\n",
        "It means that some rows that were previously in the training set might now end up in the test set. It causes *data leakage*, because your model has already seen them.\n",
        "\n",
        "tldr: You want the **same rows to always belong to the same set**, even if the dataset is updated later. We can achieve this with *hash*.\n",
        "\n",
        "But how?\n",
        "\n",
        "Recall that hash functions define a **deterministic** rule that given an input, it is guaranteed to map it to the same slot. Specifically, for a given data instance, it can always decide whether it belongs to the test set or the training set (even if the dataset is updated, reloaded or reshuffled, etc.)\n",
        "\n",
        "Hash functions take an *identifier* (like id, or index) and return a fixed-size integer that looks random, but is always the same for the same input.\n",
        "\n",
        "e.g.,\n",
        "\n",
        "crc32(\"district_001\") -> 276543213\n",
        "\n",
        "crc32(\"district_002\") -> 987653210\n",
        "\n",
        "Due to the deterministic nature of the hash functions, you will get the same output if you run this tomorrow, next week, or on another computer.\n",
        "\n"
      ],
      "metadata": {
        "id": "Tn_Z273fuasy"
      }
    },
    {
      "cell_type": "code",
      "source": [
        "from zlib import crc32\n",
        "\n",
        "def is_id_in_test_set(identifier, test_ratio):\n",
        "  '''\n",
        "  Compute the hash of identifier, and put the relevant instance\n",
        "  in the test set if the hash is <= 20% of the maximum hash value.\n",
        "  '''\n",
        "  return crc32(np.int64(identifier)) < test_ratio * 2**32\n",
        "\n",
        "def split_data_with_id_hash(data, test_ratio, id_column):\n",
        "  ids = data[id_column]\n",
        "  in_test_set = ids.apply(lambda id_ : is_id_in_test_set(id_, test_ratio))\n",
        "  return data.loc[~in_test_set], data.loc[in_test_set] # return as 2 tuple (train_set, test_set)"
      ],
      "metadata": {
        "id": "D-i_0VzP7WXv"
      },
      "execution_count": 23,
      "outputs": []
    },
    {
      "cell_type": "code",
      "source": [
        "housing.columns"
      ],
      "metadata": {
        "colab": {
          "base_uri": "https://localhost:8080/"
        },
        "id": "4kUKdcoM757X",
        "outputId": "08ec1e3b-03ac-4d64-baec-2d155f477b7c"
      },
      "execution_count": 24,
      "outputs": [
        {
          "output_type": "execute_result",
          "data": {
            "text/plain": [
              "Index(['longitude', 'latitude', 'housing_median_age', 'total_rooms',\n",
              "       'total_bedrooms', 'population', 'households', 'median_income',\n",
              "       'median_house_value', 'ocean_proximity'],\n",
              "      dtype='object')"
            ]
          },
          "metadata": {},
          "execution_count": 24
        }
      ]
    },
    {
      "cell_type": "markdown",
      "source": [
        "Notice that housing dataset doesn't contain an identifier column."
      ],
      "metadata": {
        "id": "dHYWtDro8YvR"
      }
    },
    {
      "cell_type": "code",
      "source": [
        "housing_with_id = housing.reset_index() # adds an 'index' column\n",
        "housing_with_id.head()"
      ],
      "metadata": {
        "id": "Toe89E0m7WOc",
        "colab": {
          "base_uri": "https://localhost:8080/",
          "height": 226
        },
        "outputId": "5146e9d2-8c2d-4e30-82d7-82e906d1d8e1"
      },
      "execution_count": 25,
      "outputs": [
        {
          "output_type": "execute_result",
          "data": {
            "text/plain": [
              "   index  longitude  latitude  housing_median_age  total_rooms  \\\n",
              "0      0    -122.23     37.88                41.0        880.0   \n",
              "1      1    -122.22     37.86                21.0       7099.0   \n",
              "2      2    -122.24     37.85                52.0       1467.0   \n",
              "3      3    -122.25     37.85                52.0       1274.0   \n",
              "4      4    -122.25     37.85                52.0       1627.0   \n",
              "\n",
              "   total_bedrooms  population  households  median_income  median_house_value  \\\n",
              "0           129.0       322.0       126.0         8.3252            452600.0   \n",
              "1          1106.0      2401.0      1138.0         8.3014            358500.0   \n",
              "2           190.0       496.0       177.0         7.2574            352100.0   \n",
              "3           235.0       558.0       219.0         5.6431            341300.0   \n",
              "4           280.0       565.0       259.0         3.8462            342200.0   \n",
              "\n",
              "  ocean_proximity  \n",
              "0        NEAR BAY  \n",
              "1        NEAR BAY  \n",
              "2        NEAR BAY  \n",
              "3        NEAR BAY  \n",
              "4        NEAR BAY  "
            ],
            "text/html": [
              "\n",
              "  <div id=\"df-ccf21bcb-269b-402d-8804-26e83db70834\" class=\"colab-df-container\">\n",
              "    <div>\n",
              "<style scoped>\n",
              "    .dataframe tbody tr th:only-of-type {\n",
              "        vertical-align: middle;\n",
              "    }\n",
              "\n",
              "    .dataframe tbody tr th {\n",
              "        vertical-align: top;\n",
              "    }\n",
              "\n",
              "    .dataframe thead th {\n",
              "        text-align: right;\n",
              "    }\n",
              "</style>\n",
              "<table border=\"1\" class=\"dataframe\">\n",
              "  <thead>\n",
              "    <tr style=\"text-align: right;\">\n",
              "      <th></th>\n",
              "      <th>index</th>\n",
              "      <th>longitude</th>\n",
              "      <th>latitude</th>\n",
              "      <th>housing_median_age</th>\n",
              "      <th>total_rooms</th>\n",
              "      <th>total_bedrooms</th>\n",
              "      <th>population</th>\n",
              "      <th>households</th>\n",
              "      <th>median_income</th>\n",
              "      <th>median_house_value</th>\n",
              "      <th>ocean_proximity</th>\n",
              "    </tr>\n",
              "  </thead>\n",
              "  <tbody>\n",
              "    <tr>\n",
              "      <th>0</th>\n",
              "      <td>0</td>\n",
              "      <td>-122.23</td>\n",
              "      <td>37.88</td>\n",
              "      <td>41.0</td>\n",
              "      <td>880.0</td>\n",
              "      <td>129.0</td>\n",
              "      <td>322.0</td>\n",
              "      <td>126.0</td>\n",
              "      <td>8.3252</td>\n",
              "      <td>452600.0</td>\n",
              "      <td>NEAR BAY</td>\n",
              "    </tr>\n",
              "    <tr>\n",
              "      <th>1</th>\n",
              "      <td>1</td>\n",
              "      <td>-122.22</td>\n",
              "      <td>37.86</td>\n",
              "      <td>21.0</td>\n",
              "      <td>7099.0</td>\n",
              "      <td>1106.0</td>\n",
              "      <td>2401.0</td>\n",
              "      <td>1138.0</td>\n",
              "      <td>8.3014</td>\n",
              "      <td>358500.0</td>\n",
              "      <td>NEAR BAY</td>\n",
              "    </tr>\n",
              "    <tr>\n",
              "      <th>2</th>\n",
              "      <td>2</td>\n",
              "      <td>-122.24</td>\n",
              "      <td>37.85</td>\n",
              "      <td>52.0</td>\n",
              "      <td>1467.0</td>\n",
              "      <td>190.0</td>\n",
              "      <td>496.0</td>\n",
              "      <td>177.0</td>\n",
              "      <td>7.2574</td>\n",
              "      <td>352100.0</td>\n",
              "      <td>NEAR BAY</td>\n",
              "    </tr>\n",
              "    <tr>\n",
              "      <th>3</th>\n",
              "      <td>3</td>\n",
              "      <td>-122.25</td>\n",
              "      <td>37.85</td>\n",
              "      <td>52.0</td>\n",
              "      <td>1274.0</td>\n",
              "      <td>235.0</td>\n",
              "      <td>558.0</td>\n",
              "      <td>219.0</td>\n",
              "      <td>5.6431</td>\n",
              "      <td>341300.0</td>\n",
              "      <td>NEAR BAY</td>\n",
              "    </tr>\n",
              "    <tr>\n",
              "      <th>4</th>\n",
              "      <td>4</td>\n",
              "      <td>-122.25</td>\n",
              "      <td>37.85</td>\n",
              "      <td>52.0</td>\n",
              "      <td>1627.0</td>\n",
              "      <td>280.0</td>\n",
              "      <td>565.0</td>\n",
              "      <td>259.0</td>\n",
              "      <td>3.8462</td>\n",
              "      <td>342200.0</td>\n",
              "      <td>NEAR BAY</td>\n",
              "    </tr>\n",
              "  </tbody>\n",
              "</table>\n",
              "</div>\n",
              "    <div class=\"colab-df-buttons\">\n",
              "\n",
              "  <div class=\"colab-df-container\">\n",
              "    <button class=\"colab-df-convert\" onclick=\"convertToInteractive('df-ccf21bcb-269b-402d-8804-26e83db70834')\"\n",
              "            title=\"Convert this dataframe to an interactive table.\"\n",
              "            style=\"display:none;\">\n",
              "\n",
              "  <svg xmlns=\"http://www.w3.org/2000/svg\" height=\"24px\" viewBox=\"0 -960 960 960\">\n",
              "    <path d=\"M120-120v-720h720v720H120Zm60-500h600v-160H180v160Zm220 220h160v-160H400v160Zm0 220h160v-160H400v160ZM180-400h160v-160H180v160Zm440 0h160v-160H620v160ZM180-180h160v-160H180v160Zm440 0h160v-160H620v160Z\"/>\n",
              "  </svg>\n",
              "    </button>\n",
              "\n",
              "  <style>\n",
              "    .colab-df-container {\n",
              "      display:flex;\n",
              "      gap: 12px;\n",
              "    }\n",
              "\n",
              "    .colab-df-convert {\n",
              "      background-color: #E8F0FE;\n",
              "      border: none;\n",
              "      border-radius: 50%;\n",
              "      cursor: pointer;\n",
              "      display: none;\n",
              "      fill: #1967D2;\n",
              "      height: 32px;\n",
              "      padding: 0 0 0 0;\n",
              "      width: 32px;\n",
              "    }\n",
              "\n",
              "    .colab-df-convert:hover {\n",
              "      background-color: #E2EBFA;\n",
              "      box-shadow: 0px 1px 2px rgba(60, 64, 67, 0.3), 0px 1px 3px 1px rgba(60, 64, 67, 0.15);\n",
              "      fill: #174EA6;\n",
              "    }\n",
              "\n",
              "    .colab-df-buttons div {\n",
              "      margin-bottom: 4px;\n",
              "    }\n",
              "\n",
              "    [theme=dark] .colab-df-convert {\n",
              "      background-color: #3B4455;\n",
              "      fill: #D2E3FC;\n",
              "    }\n",
              "\n",
              "    [theme=dark] .colab-df-convert:hover {\n",
              "      background-color: #434B5C;\n",
              "      box-shadow: 0px 1px 3px 1px rgba(0, 0, 0, 0.15);\n",
              "      filter: drop-shadow(0px 1px 2px rgba(0, 0, 0, 0.3));\n",
              "      fill: #FFFFFF;\n",
              "    }\n",
              "  </style>\n",
              "\n",
              "    <script>\n",
              "      const buttonEl =\n",
              "        document.querySelector('#df-ccf21bcb-269b-402d-8804-26e83db70834 button.colab-df-convert');\n",
              "      buttonEl.style.display =\n",
              "        google.colab.kernel.accessAllowed ? 'block' : 'none';\n",
              "\n",
              "      async function convertToInteractive(key) {\n",
              "        const element = document.querySelector('#df-ccf21bcb-269b-402d-8804-26e83db70834');\n",
              "        const dataTable =\n",
              "          await google.colab.kernel.invokeFunction('convertToInteractive',\n",
              "                                                    [key], {});\n",
              "        if (!dataTable) return;\n",
              "\n",
              "        const docLinkHtml = 'Like what you see? Visit the ' +\n",
              "          '<a target=\"_blank\" href=https://colab.research.google.com/notebooks/data_table.ipynb>data table notebook</a>'\n",
              "          + ' to learn more about interactive tables.';\n",
              "        element.innerHTML = '';\n",
              "        dataTable['output_type'] = 'display_data';\n",
              "        await google.colab.output.renderOutput(dataTable, element);\n",
              "        const docLink = document.createElement('div');\n",
              "        docLink.innerHTML = docLinkHtml;\n",
              "        element.appendChild(docLink);\n",
              "      }\n",
              "    </script>\n",
              "  </div>\n",
              "\n",
              "\n",
              "    <div id=\"df-aed54f49-f7a8-4450-9941-c3bdd43807dd\">\n",
              "      <button class=\"colab-df-quickchart\" onclick=\"quickchart('df-aed54f49-f7a8-4450-9941-c3bdd43807dd')\"\n",
              "                title=\"Suggest charts\"\n",
              "                style=\"display:none;\">\n",
              "\n",
              "<svg xmlns=\"http://www.w3.org/2000/svg\" height=\"24px\"viewBox=\"0 0 24 24\"\n",
              "     width=\"24px\">\n",
              "    <g>\n",
              "        <path d=\"M19 3H5c-1.1 0-2 .9-2 2v14c0 1.1.9 2 2 2h14c1.1 0 2-.9 2-2V5c0-1.1-.9-2-2-2zM9 17H7v-7h2v7zm4 0h-2V7h2v10zm4 0h-2v-4h2v4z\"/>\n",
              "    </g>\n",
              "</svg>\n",
              "      </button>\n",
              "\n",
              "<style>\n",
              "  .colab-df-quickchart {\n",
              "      --bg-color: #E8F0FE;\n",
              "      --fill-color: #1967D2;\n",
              "      --hover-bg-color: #E2EBFA;\n",
              "      --hover-fill-color: #174EA6;\n",
              "      --disabled-fill-color: #AAA;\n",
              "      --disabled-bg-color: #DDD;\n",
              "  }\n",
              "\n",
              "  [theme=dark] .colab-df-quickchart {\n",
              "      --bg-color: #3B4455;\n",
              "      --fill-color: #D2E3FC;\n",
              "      --hover-bg-color: #434B5C;\n",
              "      --hover-fill-color: #FFFFFF;\n",
              "      --disabled-bg-color: #3B4455;\n",
              "      --disabled-fill-color: #666;\n",
              "  }\n",
              "\n",
              "  .colab-df-quickchart {\n",
              "    background-color: var(--bg-color);\n",
              "    border: none;\n",
              "    border-radius: 50%;\n",
              "    cursor: pointer;\n",
              "    display: none;\n",
              "    fill: var(--fill-color);\n",
              "    height: 32px;\n",
              "    padding: 0;\n",
              "    width: 32px;\n",
              "  }\n",
              "\n",
              "  .colab-df-quickchart:hover {\n",
              "    background-color: var(--hover-bg-color);\n",
              "    box-shadow: 0 1px 2px rgba(60, 64, 67, 0.3), 0 1px 3px 1px rgba(60, 64, 67, 0.15);\n",
              "    fill: var(--button-hover-fill-color);\n",
              "  }\n",
              "\n",
              "  .colab-df-quickchart-complete:disabled,\n",
              "  .colab-df-quickchart-complete:disabled:hover {\n",
              "    background-color: var(--disabled-bg-color);\n",
              "    fill: var(--disabled-fill-color);\n",
              "    box-shadow: none;\n",
              "  }\n",
              "\n",
              "  .colab-df-spinner {\n",
              "    border: 2px solid var(--fill-color);\n",
              "    border-color: transparent;\n",
              "    border-bottom-color: var(--fill-color);\n",
              "    animation:\n",
              "      spin 1s steps(1) infinite;\n",
              "  }\n",
              "\n",
              "  @keyframes spin {\n",
              "    0% {\n",
              "      border-color: transparent;\n",
              "      border-bottom-color: var(--fill-color);\n",
              "      border-left-color: var(--fill-color);\n",
              "    }\n",
              "    20% {\n",
              "      border-color: transparent;\n",
              "      border-left-color: var(--fill-color);\n",
              "      border-top-color: var(--fill-color);\n",
              "    }\n",
              "    30% {\n",
              "      border-color: transparent;\n",
              "      border-left-color: var(--fill-color);\n",
              "      border-top-color: var(--fill-color);\n",
              "      border-right-color: var(--fill-color);\n",
              "    }\n",
              "    40% {\n",
              "      border-color: transparent;\n",
              "      border-right-color: var(--fill-color);\n",
              "      border-top-color: var(--fill-color);\n",
              "    }\n",
              "    60% {\n",
              "      border-color: transparent;\n",
              "      border-right-color: var(--fill-color);\n",
              "    }\n",
              "    80% {\n",
              "      border-color: transparent;\n",
              "      border-right-color: var(--fill-color);\n",
              "      border-bottom-color: var(--fill-color);\n",
              "    }\n",
              "    90% {\n",
              "      border-color: transparent;\n",
              "      border-bottom-color: var(--fill-color);\n",
              "    }\n",
              "  }\n",
              "</style>\n",
              "\n",
              "      <script>\n",
              "        async function quickchart(key) {\n",
              "          const quickchartButtonEl =\n",
              "            document.querySelector('#' + key + ' button');\n",
              "          quickchartButtonEl.disabled = true;  // To prevent multiple clicks.\n",
              "          quickchartButtonEl.classList.add('colab-df-spinner');\n",
              "          try {\n",
              "            const charts = await google.colab.kernel.invokeFunction(\n",
              "                'suggestCharts', [key], {});\n",
              "          } catch (error) {\n",
              "            console.error('Error during call to suggestCharts:', error);\n",
              "          }\n",
              "          quickchartButtonEl.classList.remove('colab-df-spinner');\n",
              "          quickchartButtonEl.classList.add('colab-df-quickchart-complete');\n",
              "        }\n",
              "        (() => {\n",
              "          let quickchartButtonEl =\n",
              "            document.querySelector('#df-aed54f49-f7a8-4450-9941-c3bdd43807dd button');\n",
              "          quickchartButtonEl.style.display =\n",
              "            google.colab.kernel.accessAllowed ? 'block' : 'none';\n",
              "        })();\n",
              "      </script>\n",
              "    </div>\n",
              "\n",
              "    </div>\n",
              "  </div>\n"
            ],
            "application/vnd.google.colaboratory.intrinsic+json": {
              "type": "dataframe",
              "variable_name": "housing_with_id",
              "summary": "{\n  \"name\": \"housing_with_id\",\n  \"rows\": 20640,\n  \"fields\": [\n    {\n      \"column\": \"index\",\n      \"properties\": {\n        \"dtype\": \"number\",\n        \"std\": 5958,\n        \"min\": 0,\n        \"max\": 20639,\n        \"num_unique_values\": 20640,\n        \"samples\": [\n          20046,\n          3024,\n          15663\n        ],\n        \"semantic_type\": \"\",\n        \"description\": \"\"\n      }\n    },\n    {\n      \"column\": \"longitude\",\n      \"properties\": {\n        \"dtype\": \"number\",\n        \"std\": 2.0035317235025802,\n        \"min\": -124.35,\n        \"max\": -114.31,\n        \"num_unique_values\": 844,\n        \"samples\": [\n          -123.39,\n          -122.08,\n          -116.17\n        ],\n        \"semantic_type\": \"\",\n        \"description\": \"\"\n      }\n    },\n    {\n      \"column\": \"latitude\",\n      \"properties\": {\n        \"dtype\": \"number\",\n        \"std\": 2.135952397457107,\n        \"min\": 32.54,\n        \"max\": 41.95,\n        \"num_unique_values\": 862,\n        \"samples\": [\n          36.16,\n          36.28,\n          32.68\n        ],\n        \"semantic_type\": \"\",\n        \"description\": \"\"\n      }\n    },\n    {\n      \"column\": \"housing_median_age\",\n      \"properties\": {\n        \"dtype\": \"number\",\n        \"std\": 12.585557612111748,\n        \"min\": 1.0,\n        \"max\": 52.0,\n        \"num_unique_values\": 52,\n        \"samples\": [\n          35.0,\n          25.0,\n          3.0\n        ],\n        \"semantic_type\": \"\",\n        \"description\": \"\"\n      }\n    },\n    {\n      \"column\": \"total_rooms\",\n      \"properties\": {\n        \"dtype\": \"number\",\n        \"std\": 2181.6152515827785,\n        \"min\": 2.0,\n        \"max\": 39320.0,\n        \"num_unique_values\": 5926,\n        \"samples\": [\n          913.0,\n          1759.0,\n          6434.0\n        ],\n        \"semantic_type\": \"\",\n        \"description\": \"\"\n      }\n    },\n    {\n      \"column\": \"total_bedrooms\",\n      \"properties\": {\n        \"dtype\": \"number\",\n        \"std\": 421.38507007403194,\n        \"min\": 1.0,\n        \"max\": 6445.0,\n        \"num_unique_values\": 1923,\n        \"samples\": [\n          1296.0,\n          3493.0,\n          2035.0\n        ],\n        \"semantic_type\": \"\",\n        \"description\": \"\"\n      }\n    },\n    {\n      \"column\": \"population\",\n      \"properties\": {\n        \"dtype\": \"number\",\n        \"std\": 1132.4621217653341,\n        \"min\": 3.0,\n        \"max\": 35682.0,\n        \"num_unique_values\": 3888,\n        \"samples\": [\n          3622.0,\n          3232.0,\n          2291.0\n        ],\n        \"semantic_type\": \"\",\n        \"description\": \"\"\n      }\n    },\n    {\n      \"column\": \"households\",\n      \"properties\": {\n        \"dtype\": \"number\",\n        \"std\": 382.329752831612,\n        \"min\": 1.0,\n        \"max\": 6082.0,\n        \"num_unique_values\": 1815,\n        \"samples\": [\n          745.0,\n          1248.0,\n          1166.0\n        ],\n        \"semantic_type\": \"\",\n        \"description\": \"\"\n      }\n    },\n    {\n      \"column\": \"median_income\",\n      \"properties\": {\n        \"dtype\": \"number\",\n        \"std\": 1.8998217179452694,\n        \"min\": 0.4999,\n        \"max\": 15.0001,\n        \"num_unique_values\": 12928,\n        \"samples\": [\n          2.5211,\n          4.2454,\n          2.1681\n        ],\n        \"semantic_type\": \"\",\n        \"description\": \"\"\n      }\n    },\n    {\n      \"column\": \"median_house_value\",\n      \"properties\": {\n        \"dtype\": \"number\",\n        \"std\": 115395.61587441301,\n        \"min\": 14999.0,\n        \"max\": 500001.0,\n        \"num_unique_values\": 3842,\n        \"samples\": [\n          400700.0,\n          264900.0,\n          119100.0\n        ],\n        \"semantic_type\": \"\",\n        \"description\": \"\"\n      }\n    },\n    {\n      \"column\": \"ocean_proximity\",\n      \"properties\": {\n        \"dtype\": \"category\",\n        \"num_unique_values\": 5,\n        \"samples\": [\n          \"<1H OCEAN\",\n          \"ISLAND\",\n          \"INLAND\"\n        ],\n        \"semantic_type\": \"\",\n        \"description\": \"\"\n      }\n    }\n  ]\n}"
            }
          },
          "metadata": {},
          "execution_count": 25
        }
      ]
    },
    {
      "cell_type": "code",
      "source": [
        "train_set, test_set = split_data_with_id_hash(data=housing_with_id, test_ratio=0.2, id_column=\"index\")"
      ],
      "metadata": {
        "id": "67XxOX4a-WUB"
      },
      "execution_count": 26,
      "outputs": []
    },
    {
      "cell_type": "markdown",
      "source": [
        "If you use the row index as unique identifier, you need to make sure that new data gets appended to the end of the dataset and that no row ever gets deleted. If this is not possible, then you can try to use the most stable features to build a unique id."
      ],
      "metadata": {
        "id": "cDzzXmjUHTFU"
      }
    },
    {
      "cell_type": "code",
      "source": [
        "# combine stable features to form a unique id\n",
        "housing_with_id[\"id\"] = housing[\"longitude\"] * 1000 + housing[\"latitude\"]"
      ],
      "metadata": {
        "id": "xMQ29DCI-i4E"
      },
      "execution_count": 27,
      "outputs": []
    },
    {
      "cell_type": "markdown",
      "source": [
        "*(ref: Hands-On ML)*\n",
        "\n",
        "Scikit-Learn provides a few functions to split datasets into multiple subsets in various ways.\n",
        "\n",
        "e.g., the simplest one is `train_test_split()`. It does the same thing as the `shuffle_and_split_data()` function we defined earlier, with a couple of additional features:\n",
        "\n",
        "- First, there is a `random_state` parameter that allows you to set the random generator seed.\n",
        "- Second, you can pass it multiple datasets with an identical number of rows, and it will split them on the same indices. This is very useful, for example, if you have a separate DataFrame for labels."
      ],
      "metadata": {
        "id": "9qzY0ul4H5lP"
      }
    },
    {
      "cell_type": "code",
      "source": [
        "from sklearn.model_selection import train_test_split\n",
        "train_set, test_set = train_test_split(housing, test_size=0.2, random_state=42)"
      ],
      "metadata": {
        "id": "h--97ge1-i16"
      },
      "execution_count": 28,
      "outputs": []
    },
    {
      "cell_type": "markdown",
      "source": [
        "## Stratified Sampling\n",
        "https://en.wikipedia.org/wiki/Stratified_sampling"
      ],
      "metadata": {
        "id": "7TLjJ9NLx4pF"
      }
    },
    {
      "cell_type": "markdown",
      "source": [
        "Suppose the domain experts told that the median income is a crucial feature to predict median housing prices. You want to be sure that the test set is representative of the various categories of incomes in the dataset.\n",
        "\n",
        "However, since the median income is continuous numerical attribute, it's better to create an income category attribute."
      ],
      "metadata": {
        "id": "_Z1ZzvGYCRBs"
      }
    },
    {
      "cell_type": "code",
      "source": [
        "housing[\"median_income\"].hist(bins=50, figsize=(12,8))\n",
        "plt.show()"
      ],
      "metadata": {
        "id": "cwSKXzOb-ijT",
        "colab": {
          "base_uri": "https://localhost:8080/",
          "height": 676
        },
        "outputId": "f896993b-d610-49fd-bd53-f15fa5d4bc12"
      },
      "execution_count": 29,
      "outputs": [
        {
          "output_type": "display_data",
          "data": {
            "text/plain": [
              "<Figure size 1200x800 with 1 Axes>"
            ],
            "image/png": "[encoded data removed]"
          },
          "metadata": {}
        }
      ]
    },
    {
      "cell_type": "code",
      "source": [
        "housing[\"median_income\"].describe()"
      ],
      "metadata": {
        "colab": {
          "base_uri": "https://localhost:8080/",
          "height": 335
        },
        "id": "n0Zb4xtTEx4Z",
        "outputId": "0ef2c949-c0b2-47c6-acf2-865a2312c6c8"
      },
      "execution_count": 30,
      "outputs": [
        {
          "output_type": "execute_result",
          "data": {
            "text/plain": [
              "count    20640.000000\n",
              "mean         3.870671\n",
              "std          1.899822\n",
              "min          0.499900\n",
              "25%          2.563400\n",
              "50%          3.534800\n",
              "75%          4.743250\n",
              "max         15.000100\n",
              "Name: median_income, dtype: float64"
            ],
            "text/html": [
              "<div>\n",
              "<style scoped>\n",
              "    .dataframe tbody tr th:only-of-type {\n",
              "        vertical-align: middle;\n",
              "    }\n",
              "\n",
              "    .dataframe tbody tr th {\n",
              "        vertical-align: top;\n",
              "    }\n",
              "\n",
              "    .dataframe thead th {\n",
              "        text-align: right;\n",
              "    }\n",
              "</style>\n",
              "<table border=\"1\" class=\"dataframe\">\n",
              "  <thead>\n",
              "    <tr style=\"text-align: right;\">\n",
              "      <th></th>\n",
              "      <th>median_income</th>\n",
              "    </tr>\n",
              "  </thead>\n",
              "  <tbody>\n",
              "    <tr>\n",
              "      <th>count</th>\n",
              "      <td>20640.000000</td>\n",
              "    </tr>\n",
              "    <tr>\n",
              "      <th>mean</th>\n",
              "      <td>3.870671</td>\n",
              "    </tr>\n",
              "    <tr>\n",
              "      <th>std</th>\n",
              "      <td>1.899822</td>\n",
              "    </tr>\n",
              "    <tr>\n",
              "      <th>min</th>\n",
              "      <td>0.499900</td>\n",
              "    </tr>\n",
              "    <tr>\n",
              "      <th>25%</th>\n",
              "      <td>2.563400</td>\n",
              "    </tr>\n",
              "    <tr>\n",
              "      <th>50%</th>\n",
              "      <td>3.534800</td>\n",
              "    </tr>\n",
              "    <tr>\n",
              "      <th>75%</th>\n",
              "      <td>4.743250</td>\n",
              "    </tr>\n",
              "    <tr>\n",
              "      <th>max</th>\n",
              "      <td>15.000100</td>\n",
              "    </tr>\n",
              "  </tbody>\n",
              "</table>\n",
              "</div><br><label><b>dtype:</b> float64</label>"
            ]
          },
          "metadata": {},
          "execution_count": 30
        }
      ]
    },
    {
      "cell_type": "code",
      "source": [
        "housing[\"median_income\"].value_counts().to_dict()"
      ],
      "metadata": {
        "id": "mEomPT39hA95",
        "colab": {
          "base_uri": "https://localhost:8080/"
        },
        "outputId": "5e6b03ef-b783-44e6-ffb2-9787fc1a84c8"
      },
      "execution_count": 31,
      "outputs": [
        {
          "output_type": "execute_result",
          "data": {
            "text/plain": [
              "{15.0001: 49,\n",
              " 3.125: 49,\n",
              " 2.875: 46,\n",
              " 4.125: 44,\n",
              " 2.625: 44,\n",
              " 3.875: 41,\n",
              " 3.375: 38,\n",
              " 3.0: 38,\n",
              " 4.0: 37,\n",
              " 3.625: 37,\n",
              " 4.375: 35,\n",
              " 2.125: 33,\n",
              " 2.375: 32,\n",
              " 4.625: 31,\n",
              " 3.5: 30,\n",
              " 4.875: 29,\n",
              " 2.25: 29,\n",
              " 3.75: 29,\n",
              " 1.625: 29,\n",
              " 3.25: 29,\n",
              " 2.5: 28,\n",
              " 4.25: 28,\n",
              " 3.6875: 26,\n",
              " 2.75: 25,\n",
              " 4.5: 24,\n",
              " 1.875: 21,\n",
              " 2.5625: 21,\n",
              " 5.0: 20,\n",
              " 3.0625: 19,\n",
              " 3.3125: 18,\n",
              " 2.0: 18,\n",
              " 4.4375: 18,\n",
              " 5.5: 18,\n",
              " 3.5625: 17,\n",
              " 3.0833: 17,\n",
              " 2.3333: 16,\n",
              " 2.4375: 16,\n",
              " 4.0625: 16,\n",
              " 3.3438: 16,\n",
              " 3.8125: 16,\n",
              " 1.75: 15,\n",
              " 4.0417: 15,\n",
              " 3.1667: 15,\n",
              " 2.4167: 15,\n",
              " 3.2813: 14,\n",
              " 2.8125: 14,\n",
              " 3.5313: 14,\n",
              " 2.1875: 14,\n",
              " 2.5833: 14,\n",
              " 4.5625: 14,\n",
              " 3.6667: 14,\n",
              " 3.9375: 14,\n",
              " 3.4375: 13,\n",
              " 2.3125: 13,\n",
              " 2.7083: 13,\n",
              " 3.7813: 13,\n",
              " 1.9375: 13,\n",
              " 4.5833: 13,\n",
              " 2.3: 13,\n",
              " 2.6667: 13,\n",
              " 2.9821: 12,\n",
              " 4.2917: 12,\n",
              " 2.5417: 12,\n",
              " 4.75: 12,\n",
              " 3.1875: 12,\n",
              " 0.4999: 12,\n",
              " 3.6: 12,\n",
              " 2.7813: 11,\n",
              " 4.0833: 11,\n",
              " 7.5: 11,\n",
              " 6.0: 11,\n",
              " 3.7917: 11,\n",
              " 4.8125: 11,\n",
              " 1.125: 11,\n",
              " 3.2917: 11,\n",
              " 1.6875: 11,\n",
              " 3.3333: 11,\n",
              " 3.9464: 11,\n",
              " 3.0417: 11,\n",
              " 3.3906: 11,\n",
              " 4.0313: 11,\n",
              " 2.9375: 11,\n",
              " 3.1607: 11,\n",
              " 3.4583: 11,\n",
              " 2.6875: 11,\n",
              " 3.225: 11,\n",
              " 3.9167: 10,\n",
              " 3.5179: 10,\n",
              " 3.9722: 10,\n",
              " 2.9167: 10,\n",
              " 2.0625: 10,\n",
              " 1.5625: 10,\n",
              " 2.9688: 10,\n",
              " 3.775: 10,\n",
              " 3.7083: 10,\n",
              " 3.2083: 10,\n",
              " 0.536: 10,\n",
              " 2.8: 10,\n",
              " 3.725: 10,\n",
              " 3.3214: 10,\n",
              " 4.0208: 10,\n",
              " 4.3125: 10,\n",
              " 4.6875: 10,\n",
              " 2.425: 10,\n",
              " 2.3438: 9,\n",
              " 3.9792: 9,\n",
              " 2.3929: 9,\n",
              " 2.5313: 9,\n",
              " 3.9688: 9,\n",
              " 4.7813: 9,\n",
              " 4.1875: 9,\n",
              " 3.8: 9,\n",
              " 2.4583: 9,\n",
              " 3.9063: 9,\n",
              " 4.3333: 9,\n",
              " 3.0938: 9,\n",
              " 4.1667: 9,\n",
              " 2.7857: 9,\n",
              " 3.2708: 9,\n",
              " 3.0208: 9,\n",
              " 4.4: 9,\n",
              " 3.7143: 9,\n",
              " 2.2813: 9,\n",
              " 2.5556: 8,\n",
              " 3.6625: 8,\n",
              " 2.2917: 8,\n",
              " 3.175: 8,\n",
              " 1.375: 8,\n",
              " 4.2813: 8,\n",
              " 4.175: 8,\n",
              " 3.1563: 8,\n",
              " 2.9063: 8,\n",
              " 3.5938: 8,\n",
              " 3.0179: 8,\n",
              " 4.45: 8,\n",
              " 4.5417: 8,\n",
              " 4.475: 8,\n",
              " 3.5833: 8,\n",
              " 3.9: 8,\n",
              " 4.2083: 8,\n",
              " 3.025: 8,\n",
              " 4.4063: 8,\n",
              " 3.6563: 8,\n",
              " 2.7917: 8,\n",
              " 2.8438: 8,\n",
              " 2.9: 8,\n",
              " 3.0139: 8,\n",
              " 4.3438: 8,\n",
              " 3.3958: 8,\n",
              " 3.35: 8,\n",
              " 2.9583: 8,\n",
              " 3.15: 8,\n",
              " 3.8068: 8,\n",
              " 1.6607: 8,\n",
              " 3.8333: 8,\n",
              " 3.65: 8,\n",
              " 1.9688: 8,\n",
              " 2.2222: 8,\n",
              " 3.5156: 8,\n",
              " 3.1719: 8,\n",
              " 3.1406: 8,\n",
              " 3.5893: 8,\n",
              " 3.6389: 8,\n",
              " 2.1667: 8,\n",
              " 2.2679: 7,\n",
              " 1.9167: 7,\n",
              " 1.725: 7,\n",
              " 3.7321: 7,\n",
              " 4.4821: 7,\n",
              " 2.5938: 7,\n",
              " 1.5: 7,\n",
              " 2.6094: 7,\n",
              " 3.9583: 7,\n",
              " 3.5417: 7,\n",
              " 4.8611: 7,\n",
              " 1.7292: 7,\n",
              " 4.05: 7,\n",
              " 4.8304: 7,\n",
              " 3.7188: 7,\n",
              " 3.7361: 7,\n",
              " 2.1979: 7,\n",
              " 2.6042: 7,\n",
              " 3.3472: 7,\n",
              " 4.4583: 7,\n",
              " 4.5938: 7,\n",
              " 4.0156: 7,\n",
              " 3.05: 7,\n",
              " 3.0313: 7,\n",
              " 2.5893: 7,\n",
              " 3.7167: 7,\n",
              " 1.8958: 7,\n",
              " 3.4107: 7,\n",
              " 2.8393: 7,\n",
              " 3.6429: 7,\n",
              " 3.1042: 7,\n",
              " 3.8056: 7,\n",
              " 3.6719: 7,\n",
              " 1.7083: 7,\n",
              " 2.2083: 7,\n",
              " 2.7321: 7,\n",
              " 3.2188: 7,\n",
              " 4.0536: 7,\n",
              " 4.2386: 7,\n",
              " 4.7083: 7,\n",
              " 2.325: 7,\n",
              " 2.6607: 7,\n",
              " 4.675: 7,\n",
              " 2.4: 7,\n",
              " 6.1359: 7,\n",
              " 2.5875: 7,\n",
              " 4.5179: 7,\n",
              " 3.7708: 7,\n",
              " 2.2: 7,\n",
              " 3.5909: 7,\n",
              " 3.575: 7,\n",
              " 2.925: 7,\n",
              " 1.8438: 7,\n",
              " 2.9107: 7,\n",
              " 2.6458: 7,\n",
              " 3.4792: 7,\n",
              " 2.6964: 7,\n",
              " 4.2708: 7,\n",
              " 4.825: 7,\n",
              " 4.025: 7,\n",
              " 3.4028: 7,\n",
              " 4.0556: 7,\n",
              " 3.4643: 7,\n",
              " 3.9219: 7,\n",
              " 2.4821: 7,\n",
              " 4.9375: 7,\n",
              " 3.6953: 7,\n",
              " 3.5714: 7,\n",
              " 3.825: 7,\n",
              " 1.7188: 7,\n",
              " 2.2969: 7,\n",
              " 3.4167: 7,\n",
              " 3.1979: 7,\n",
              " 4.6: 7,\n",
              " 3.8571: 7,\n",
              " 4.15: 7,\n",
              " 4.7917: 7,\n",
              " 3.6042: 7,\n",
              " 4.775: 6,\n",
              " 2.6: 6,\n",
              " 3.5536: 6,\n",
              " 3.4861: 6,\n",
              " 3.925: 6,\n",
              " 4.2143: 6,\n",
              " 2.0938: 6,\n",
              " 4.8036: 6,\n",
              " 3.4: 6,\n",
              " 2.575: 6,\n",
              " 3.2222: 6,\n",
              " 4.3472: 6,\n",
              " 4.6406: 6,\n",
              " 4.1375: 6,\n",
              " 4.65: 6,\n",
              " 4.1: 6,\n",
              " 3.2857: 6,\n",
              " 2.8194: 6,\n",
              " 3.5481: 6,\n",
              " 2.3571: 6,\n",
              " 4.0972: 6,\n",
              " 4.6667: 6,\n",
              " 3.4531: 6,\n",
              " 3.9844: 6,\n",
              " 2.4196: 6,\n",
              " 4.8214: 6,\n",
              " 2.825: 6,\n",
              " 2.225: 6,\n",
              " 3.3281: 6,\n",
              " 4.5278: 6,\n",
              " 3.6111: 6,\n",
              " 1.9063: 6,\n",
              " 2.975: 6,\n",
              " 1.8333: 6,\n",
              " 4.4107: 6,\n",
              " 4.3542: 6,\n",
              " 4.5208: 6,\n",
              " 1.9107: 6,\n",
              " 4.1429: 6,\n",
              " 3.4306: 6,\n",
              " 3.1944: 6,\n",
              " 1.9531: 6,\n",
              " 2.6071: 6,\n",
              " 3.95: 6,\n",
              " 2.9844: 6,\n",
              " 3.1912: 6,\n",
              " 3.9615: 6,\n",
              " 3.425: 6,\n",
              " 4.7222: 6,\n",
              " 3.2396: 6,\n",
              " 2.8333: 6,\n",
              " 2.1776: 6,\n",
              " 4.425: 6,\n",
              " 2.1094: 6,\n",
              " 3.5781: 6,\n",
              " 2.5208: 6,\n",
              " 2.9643: 6,\n",
              " 4.0125: 6,\n",
              " 3.7969: 6,\n",
              " 2.8942: 6,\n",
              " 2.6429: 6,\n",
              " 2.8542: 6,\n",
              " 2.45: 6,\n",
              " 4.0781: 6,\n",
              " 4.35: 6,\n",
              " 2.7188: 6,\n",
              " 2.6364: 6,\n",
              " 2.1944: 6,\n",
              " 2.0673: 6,\n",
              " 2.0417: 6,\n",
              " 1.975: 6,\n",
              " 2.5156: 6,\n",
              " 3.7857: 6,\n",
              " 3.0357: 6,\n",
              " 2.3958: 6,\n",
              " 3.4286: 6,\n",
              " 4.1719: 6,\n",
              " 3.8864: 6,\n",
              " 3.1964: 6,\n",
              " 4.3897: 6,\n",
              " 2.8906: 6,\n",
              " 3.275: 6,\n",
              " 1.6667: 6,\n",
              " 4.0938: 6,\n",
              " 4.275: 6,\n",
              " 2.8036: 6,\n",
              " 2.7: 6,\n",
              " 3.0147: 6,\n",
              " 4.8: 6,\n",
              " 2.8214: 6,\n",
              " 2.9219: 6,\n",
              " 3.6607: 6,\n",
              " 3.5208: 6,\n",
              " 2.7708: 6,\n",
              " 3.2386: 6,\n",
              " 3.7292: 6,\n",
              " 3.3929: 6,\n",
              " 3.0125: 6,\n",
              " 4.7708: 6,\n",
              " 2.4464: 6,\n",
              " 2.4286: 6,\n",
              " 4.4167: 6,\n",
              " 3.1458: 6,\n",
              " 4.2679: 6,\n",
              " 4.3958: 6,\n",
              " 3.0375: 5,\n",
              " 3.4821: 5,\n",
              " 2.1071: 5,\n",
              " 3.2031: 5,\n",
              " 4.7361: 5,\n",
              " 1.7813: 5,\n",
              " 2.6563: 5,\n",
              " 4.119: 5,\n",
              " 2.3611: 5,\n",
              " 3.055: 5,\n",
              " 3.2875: 5,\n",
              " 4.6042: 5,\n",
              " 1.1667: 5,\n",
              " 1.9464: 5,\n",
              " 3.1711: 5,\n",
              " 4.6563: 5,\n",
              " 3.8958: 5,\n",
              " 4.0357: 5,\n",
              " 2.7679: 5,\n",
              " 4.8295: 5,\n",
              " 2.8167: 5,\n",
              " 2.2788: 5,\n",
              " 2.1719: 5,\n",
              " 4.9107: 5,\n",
              " 2.1964: 5,\n",
              " 4.7344: 5,\n",
              " 2.9861: 5,\n",
              " 3.475: 5,\n",
              " 7.7197: 5,\n",
              " 1.9875: 5,\n",
              " 2.9306: 5,\n",
              " 2.2024: 5,\n",
              " 4.9464: 5,\n",
              " 4.6944: 5,\n",
              " 2.5795: 5,\n",
              " 3.4609: 5,\n",
              " 2.9286: 5,\n",
              " 3.4722: 5,\n",
              " 3.1103: 5,\n",
              " 3.0972: 5,\n",
              " 2.0833: 5,\n",
              " 3.2596: 5,\n",
              " 4.8958: 5,\n",
              " 2.6442: 5,\n",
              " 2.3375: 5,\n",
              " 4.3281: 5,\n",
              " 3.5521: 5,\n",
              " 2.1838: 5,\n",
              " 1.4886: 5,\n",
              " 4.1406: 5,\n",
              " 4.6477: 5,\n",
              " 3.0909: 5,\n",
              " 2.1458: 5,\n",
              " 3.4063: 5,\n",
              " 4.0714: 5,\n",
              " 4.2614: 5,\n",
              " 3.8625: 5,\n",
              " 3.2216: 5,\n",
              " 2.4688: 5,\n",
              " 1.8214: 5,\n",
              " 4.4286: 5,\n",
              " 3.2125: 5,\n",
              " 3.3594: 5,\n",
              " 3.0893: 5,\n",
              " 3.3036: 5,\n",
              " 3.7045: 5,\n",
              " 2.5562: 5,\n",
              " 4.7: 5,\n",
              " 3.0156: 5,\n",
              " 2.3382: 5,\n",
              " 4.3571: 5,\n",
              " 3.7031: 5,\n",
              " 3.3542: 5,\n",
              " 2.6818: 5,\n",
              " 1.95: 5,\n",
              " 2.0227: 5,\n",
              " 1.9766: 5,\n",
              " 3.8194: 5,\n",
              " 3.9934: 5,\n",
              " 4.3906: 5,\n",
              " 2.025: 5,\n",
              " 4.3594: 5,\n",
              " 3.0114: 5,\n",
              " 4.0909: 5,\n",
              " 4.3864: 5,\n",
              " 4.9688: 5,\n",
              " 4.3: 5,\n",
              " 2.8281: 5,\n",
              " 2.5804: 5,\n",
              " 2.85: 5,\n",
              " 4.0469: 5,\n",
              " 3.0469: 5,\n",
              " 3.6583: 5,\n",
              " 3.5192: 5,\n",
              " 3.1786: 5,\n",
              " 4.2188: 5,\n",
              " 3.8906: 5,\n",
              " 2.3056: 5,\n",
              " 3.1771: 5,\n",
              " 2.0469: 5,\n",
              " 3.1429: 5,\n",
              " 2.4219: 5,\n",
              " 4.1339: 5,\n",
              " 2.5536: 5,\n",
              " 2.5363: 5,\n",
              " 4.2222: 5,\n",
              " 1.7: 5,\n",
              " 3.2279: 5,\n",
              " 2.8594: 5,\n",
              " 3.6094: 5,\n",
              " 2.0357: 5,\n",
              " 3.3611: 5,\n",
              " 1.6389: 5,\n",
              " 3.55: 5,\n",
              " 4.8542: 5,\n",
              " 4.7143: 5,\n",
              " 3.8542: 5,\n",
              " 2.8021: 5,\n",
              " 4.6458: 5,\n",
              " 3.975: 5,\n",
              " 4.9091: 5,\n",
              " 4.9286: 5,\n",
              " 4.575: 5,\n",
              " 1.8929: 5,\n",
              " 3.5114: 5,\n",
              " 4.3214: 5,\n",
              " 3.6417: 5,\n",
              " 2.3594: 5,\n",
              " 2.4922: 5,\n",
              " 3.2639: 5,\n",
              " 2.5179: 5,\n",
              " 3.5125: 5,\n",
              " 3.0536: 5,\n",
              " 4.1458: 5,\n",
              " 4.325: 5,\n",
              " 2.7019: 5,\n",
              " 3.2344: 5,\n",
              " 4.0893: 5,\n",
              " 1.9722: 5,\n",
              " 2.3917: 5,\n",
              " 3.9028: 5,\n",
              " 4.8906: 5,\n",
              " 3.525: 5,\n",
              " 4.9: 5,\n",
              " 3.7614: 5,\n",
              " 1.5208: 5,\n",
              " 1.9286: 5,\n",
              " 1.7708: 5,\n",
              " 2.9559: 5,\n",
              " 3.7344: 5,\n",
              " 4.5568: 5,\n",
              " 2.675: 5,\n",
              " 3.2632: 5,\n",
              " 1.3125: 5,\n",
              " 2.4659: 5,\n",
              " 2.1806: 4,\n",
              " 1.7344: 4,\n",
              " 2.1382: 4,\n",
              " 2.7344: 4,\n",
              " 3.5667: 4,\n",
              " 2.9083: 4,\n",
              " 2.2019: 4,\n",
              " 3.4896: 4,\n",
              " 2.4432: 4,\n",
              " 2.65: 4,\n",
              " 3.9306: 4,\n",
              " 2.0156: 4,\n",
              " 3.075: 4,\n",
              " 2.775: 4,\n",
              " 1.55: 4,\n",
              " 4.1518: 4,\n",
              " 3.1375: 4,\n",
              " 4.0167: 4,\n",
              " 4.7679: 4,\n",
              " 3.3393: 4,\n",
              " 3.6354: 4,\n",
              " 2.1563: 4,\n",
              " 2.4896: 4,\n",
              " 3.5096: 4,\n",
              " 3.038: 4,\n",
              " 3.9286: 4,\n",
              " 3.7: 4,\n",
              " 1.6111: 4,\n",
              " 2.3173: 4,\n",
              " 2.5909: 4,\n",
              " 3.0465: 4,\n",
              " 3.3409: 4,\n",
              " 3.9038: 4,\n",
              " 2.6083: 4,\n",
              " 1.3571: 4,\n",
              " 4.6389: 4,\n",
              " 2.1542: 4,\n",
              " 2.7375: 4,\n",
              " 2.3882: 4,\n",
              " 4.3523: 4,\n",
              " 3.8214: 4,\n",
              " 3.1111: 4,\n",
              " 3.6375: 4,\n",
              " 2.7159: 4,\n",
              " 1.5313: 4,\n",
              " 4.8021: 4,\n",
              " 3.2: 4,\n",
              " 3.1691: 4,\n",
              " 2.7955: 4,\n",
              " 1.9038: 4,\n",
              " 2.9934: 4,\n",
              " 3.0132: 4,\n",
              " 4.6364: 4,\n",
              " 2.1513: 4,\n",
              " 4.0729: 4,\n",
              " 1.4583: 4,\n",
              " 3.1389: 4,\n",
              " 3.7125: 4,\n",
              " 5.25: 4,\n",
              " 2.7031: 4,\n",
              " 1.9125: 4,\n",
              " 2.5568: 4,\n",
              " 4.5461: 4,\n",
              " 3.1917: 4,\n",
              " 3.9485: 4,\n",
              " 4.8359: 4,\n",
              " 3.3021: 4,\n",
              " 3.7159: 4,\n",
              " 3.8846: 4,\n",
              " 4.4531: 4,\n",
              " 4.6528: 4,\n",
              " 3.9265: 4,\n",
              " 3.5341: 4,\n",
              " 4.5375: 4,\n",
              " 4.5795: 4,\n",
              " 3.5039: 4,\n",
              " 2.1: 4,\n",
              " 2.4135: 4,\n",
              " 4.1563: 4,\n",
              " 4.6111: 4,\n",
              " 3.3942: 4,\n",
              " 1.0: 4,\n",
              " 2.9554: 4,\n",
              " 4.9219: 4,\n",
              " 4.6923: 4,\n",
              " 1.7778: 4,\n",
              " 3.4559: 4,\n",
              " 3.5227: 4,\n",
              " 3.6196: 4,\n",
              " 4.9125: 4,\n",
              " 3.2833: 4,\n",
              " 2.6719: 4,\n",
              " 3.6597: 4,\n",
              " 3.0682: 4,\n",
              " 1.275: 4,\n",
              " 2.3523: 4,\n",
              " 3.9091: 4,\n",
              " 3.1597: 4,\n",
              " 3.3625: 4,\n",
              " 3.1528: 4,\n",
              " 4.2656: 4,\n",
              " 4.4732: 4,\n",
              " 1.4688: 4,\n",
              " 4.2891: 4,\n",
              " 4.7188: 4,\n",
              " 3.8583: 4,\n",
              " 2.1029: 4,\n",
              " 4.5987: 4,\n",
              " 3.2321: 4,\n",
              " 2.7143: 4,\n",
              " 3.1736: 4,\n",
              " 4.3409: 4,\n",
              " 3.7727: 4,\n",
              " 3.5078: 4,\n",
              " 2.6098: 4,\n",
              " 4.4766: 4,\n",
              " 3.0521: 4,\n",
              " 2.7266: 4,\n",
              " 1.4375: 4,\n",
              " 3.0917: 4,\n",
              " 3.9519: 4,\n",
              " 4.0391: 4,\n",
              " 5.75: 4,\n",
              " 1.8472: 4,\n",
              " 2.6417: 4,\n",
              " 4.0132: 4,\n",
              " 3.8672: 4,\n",
              " 4.6591: 4,\n",
              " 3.675: 4,\n",
              " 3.5268: 4,\n",
              " 1.925: 4,\n",
              " 3.2891: 4,\n",
              " 2.2417: 4,\n",
              " 10.2264: 4,\n",
              " 4.3036: 4,\n",
              " 3.0729: 4,\n",
              " 4.9643: 4,\n",
              " 4.1071: 4,\n",
              " 4.3646: 4,\n",
              " 3.6333: 4,\n",
              " 2.3942: 4,\n",
              " 2.2264: 4,\n",
              " 4.6806: 4,\n",
              " 3.7454: 4,\n",
              " 4.5469: 4,\n",
              " 2.7778: 4,\n",
              " 3.5972: 4,\n",
              " 2.2321: 4,\n",
              " 3.9659: 4,\n",
              " 3.5547: 4,\n",
              " 2.4519: 4,\n",
              " 4.2969: 4,\n",
              " 2.5234: 4,\n",
              " 2.8929: 4,\n",
              " 1.9583: 4,\n",
              " 2.0547: 4,\n",
              " 3.6364: 4,\n",
              " 2.0658: 4,\n",
              " 2.4667: 4,\n",
              " 2.525: 4,\n",
              " 2.3393: 4,\n",
              " 3.2292: 4,\n",
              " 2.2981: 4,\n",
              " 1.9028: 4,\n",
              " 4.4271: 4,\n",
              " 3.5288: 4,\n",
              " 2.7411: 4,\n",
              " 3.1827: 4,\n",
              " 2.2188: 4,\n",
              " 4.2361: 4,\n",
              " 3.0694: 4,\n",
              " 3.1094: 4,\n",
              " 1.6944: 4,\n",
              " 4.3194: 4,\n",
              " 1.8571: 4,\n",
              " 2.1111: 4,\n",
              " 2.6827: 4,\n",
              " 2.5395: 4,\n",
              " 4.3269: 4,\n",
              " 1.8125: 4,\n",
              " 4.9904: 4,\n",
              " 3.1625: 4,\n",
              " 4.5913: 4,\n",
              " 4.2875: 4,\n",
              " 2.4722: 4,\n",
              " 3.0278: 4,\n",
              " 2.1406: 4,\n",
              " 3.3516: 4,\n",
              " 3.8529: 4,\n",
              " 3.1071: 4,\n",
              " 3.0217: 4,\n",
              " 2.2132: 4,\n",
              " 2.9896: 4,\n",
              " 2.7222: 4,\n",
              " 2.4632: 4,\n",
              " 1.1875: 4,\n",
              " 4.075: 4,\n",
              " 2.0817: 4,\n",
              " 1.65: 4,\n",
              " 2.0221: 4,\n",
              " 3.016: 4,\n",
              " 3.0089: 4,\n",
              " 2.725: 4,\n",
              " 2.4107: 4,\n",
              " 3.045: 4,\n",
              " 3.7222: 4,\n",
              " 3.6181: 4,\n",
              " 2.3456: 4,\n",
              " 2.1518: 4,\n",
              " 3.5865: 4,\n",
              " 3.6458: 4,\n",
              " 3.2375: 4,\n",
              " 4.95: 4,\n",
              " 3.8456: 4,\n",
              " 3.3889: 4,\n",
              " 4.5714: 4,\n",
              " 2.2604: 4,\n",
              " 3.3182: 4,\n",
              " 3.5673: 4,\n",
              " 2.8833: 4,\n",
              " 2.3182: 4,\n",
              " 4.7891: 4,\n",
              " 2.5139: 4,\n",
              " 2.6618: 4,\n",
              " 2.8971: 4,\n",
              " 2.3482: 4,\n",
              " 3.4773: 4,\n",
              " 3.1364: 4,\n",
              " 3.7303: 4,\n",
              " 3.3462: 4,\n",
              " 3.2024: 4,\n",
              " 2.7656: 4,\n",
              " 2.7361: 4,\n",
              " 4.7019: 4,\n",
              " 3.6806: 4,\n",
              " 3.4327: 4,\n",
              " 3.8929: 4,\n",
              " 4.0114: 4,\n",
              " 4.8438: 4,\n",
              " 4.9167: 4,\n",
              " 3.1583: 4,\n",
              " 1.9667: 4,\n",
              " 2.2292: 4,\n",
              " 2.0893: 4,\n",
              " 2.0057: 4,\n",
              " 2.8958: 4,\n",
              " 3.6083: 4,\n",
              " 2.1607: 4,\n",
              " 2.3214: 4,\n",
              " 3.1442: 4,\n",
              " 4.4464: 4,\n",
              " 3.2794: 4,\n",
              " 4.9583: 4,\n",
              " 2.3583: 3,\n",
              " 3.8158: 3,\n",
              " 3.6118: 3,\n",
              " 3.4698: 3,\n",
              " 2.6528: 3,\n",
              " 2.3542: 3,\n",
              " 1.5781: 3,\n",
              " 4.5694: 3,\n",
              " 3.2115: 3,\n",
              " 1.4712: 3,\n",
              " 1.3: 3,\n",
              " 2.1471: 3,\n",
              " 3.0958: 3,\n",
              " 3.4605: 3,\n",
              " 3.141: 3,\n",
              " 3.5652: 3,\n",
              " 2.8348: 3,\n",
              " 2.2847: 3,\n",
              " 3.7895: 3,\n",
              " 2.3043: 3,\n",
              " 2.6812: 3,\n",
              " 4.5221: 3,\n",
              " 3.0789: 3,\n",
              " 5.308: 3,\n",
              " 3.1989: 3,\n",
              " 3.0057: 3,\n",
              " 2.2768: 3,\n",
              " 2.8462: 3,\n",
              " 2.1522: 3,\n",
              " 2.3269: 3,\n",
              " 2.6538: 3,\n",
              " 3.2465: 3,\n",
              " 2.6165: 3,\n",
              " 3.4784: 3,\n",
              " 2.2375: 3,\n",
              " 3.5562: 3,\n",
              " 2.293: 3,\n",
              " 3.0398: 3,\n",
              " 3.212: 3,\n",
              " 4.3882: 3,\n",
              " 2.9926: 3,\n",
              " 5.2131: 3,\n",
              " 2.462: 3,\n",
              " 2.2656: 3,\n",
              " 2.4931: 3,\n",
              " 3.6023: 3,\n",
              " 2.3062: 3,\n",
              " 1.3929: 3,\n",
              " 3.3269: 3,\n",
              " 2.6823: 3,\n",
              " 2.1927: 3,\n",
              " 3.5735: 3,\n",
              " 2.1429: 3,\n",
              " 2.6518: 3,\n",
              " 4.6908: 3,\n",
              " 1.0714: 3,\n",
              " 2.59: 3,\n",
              " 4.2273: 3,\n",
              " 4.4875: 3,\n",
              " 4.2333: 3,\n",
              " 1.8625: 3,\n",
              " 4.8693: 3,\n",
              " 3.0962: 3,\n",
              " 1.9797: 3,\n",
              " 2.7125: 3,\n",
              " 3.7734: 3,\n",
              " 2.8295: 3,\n",
              " 1.9208: 3,\n",
              " 1.6563: 3,\n",
              " 3.5987: 3,\n",
              " 4.174: 3,\n",
              " 3.5469: 3,\n",
              " 6.0531: 3,\n",
              " 4.4306: 3,\n",
              " 1.9152: 3,\n",
              " 2.6288: 3,\n",
              " 5.5456: 3,\n",
              " 2.5588: 3,\n",
              " 4.1544: 3,\n",
              " 2.4943: 3,\n",
              " 4.1607: 3,\n",
              " 2.1078: 3,\n",
              " 2.3654: 3,\n",
              " 5.1788: 3,\n",
              " 2.0074: 3,\n",
              " 3.2768: 3,\n",
              " 4.8173: 3,\n",
              " 4.0238: 3,\n",
              " 4.0878: 3,\n",
              " 2.3077: 3,\n",
              " 4.4474: 3,\n",
              " 2.3977: 3,\n",
              " 3.8512: 3,\n",
              " 2.4306: 3,\n",
              " 4.8571: 3,\n",
              " 1.5536: 3,\n",
              " 1.6033: 3,\n",
              " 3.5859: 3,\n",
              " 2.5326: 3,\n",
              " 2.3906: 3,\n",
              " 4.9792: 3,\n",
              " 2.3824: 3,\n",
              " 2.5104: 3,\n",
              " 2.3462: 3,\n",
              " 5.0947: 3,\n",
              " 2.1484: 3,\n",
              " 4.9236: 3,\n",
              " 1.6806: 3,\n",
              " 2.6923: 3,\n",
              " 4.925: 3,\n",
              " 2.0114: 3,\n",
              " 3.017: 3,\n",
              " 2.1538: 3,\n",
              " 2.6842: 3,\n",
              " 4.2109: 3,\n",
              " 3.8269: 3,\n",
              " 3.8036: 3,\n",
              " 3.8611: 3,\n",
              " 1.25: 3,\n",
              " 2.1182: 3,\n",
              " 3.1908: 3,\n",
              " 2.7308: 3,\n",
              " 1.6833: 3,\n",
              " 2.2429: 3,\n",
              " 2.1696: 3,\n",
              " 3.024: 3,\n",
              " 3.6343: 3,\n",
              " 1.8355: 3,\n",
              " 4.3636: 3,\n",
              " 3.6964: 3,\n",
              " 2.3971: 3,\n",
              " 4.2414: 3,\n",
              " 4.2955: 3,\n",
              " 3.59: 3,\n",
              " 2.9803: 3,\n",
              " 4.4125: 3,\n",
              " 2.1571: 3,\n",
              " 2.2708: 3,\n",
              " 4.4934: 3,\n",
              " 2.4297: 3,\n",
              " 2.7727: 3,\n",
              " 2.1731: 3,\n",
              " 2.5714: 3,\n",
              " 3.0347: 3,\n",
              " 4.7639: 3,\n",
              " 4.0473: 3,\n",
              " 4.2344: 3,\n",
              " 1.5909: 3,\n",
              " 2.9271: 3,\n",
              " 2.35: 3,\n",
              " 2.6023: 3,\n",
              " 1.8095: 3,\n",
              " 3.5694: 3,\n",
              " 5.5875: 3,\n",
              " 4.0294: 3,\n",
              " 4.3875: 3,\n",
              " 4.4312: 3,\n",
              " 2.1287: 3,\n",
              " 3.6528: 3,\n",
              " 3.7891: 3,\n",
              " 3.2679: 3,\n",
              " 2.9886: 3,\n",
              " 2.4444: 3,\n",
              " 4.0039: 3,\n",
              " 1.7857: 3,\n",
              " 4.6484: 3,\n",
              " 3.9107: 3,\n",
              " 2.7045: 3,\n",
              " 3.7578: 3,\n",
              " 4.5893: 3,\n",
              " 2.8182: 3,\n",
              " 3.5982: 3,\n",
              " 2.619: 3,\n",
              " 4.1652: 3,\n",
              " 1.7062: 3,\n",
              " 4.6312: 3,\n",
              " 4.2059: 3,\n",
              " 3.8047: 3,\n",
              " 1.4464: 3,\n",
              " 4.8523: 3,\n",
              " 2.1935: 3,\n",
              " 4.5556: 3,\n",
              " 2.0278: 3,\n",
              " 2.4706: 3,\n",
              " 1.9911: 3,\n",
              " 3.3482: 3,\n",
              " 3.8594: 3,\n",
              " 5.2949: 3,\n",
              " 3.163: 3,\n",
              " 3.5568: 3,\n",
              " 1.808: 3,\n",
              " 2.8042: 3,\n",
              " 3.4231: 3,\n",
              " 3.7109: 3,\n",
              " 2.0216: 3,\n",
              " 1.6645: 3,\n",
              " 3.5391: 3,\n",
              " 3.9861: 3,\n",
              " 2.32: 3,\n",
              " 4.2312: 3,\n",
              " 4.9196: 3,\n",
              " 2.8864: 3,\n",
              " 3.6292: 3,\n",
              " 3.1319: 3,\n",
              " 2.5667: 3,\n",
              " 2.5729: 3,\n",
              " 3.0687: 3,\n",
              " 2.3667: 3,\n",
              " 2.7986: 3,\n",
              " 2.0284: 3,\n",
              " 3.9625: 3,\n",
              " 2.9386: 3,\n",
              " 2.1786: 3,\n",
              " 4.6167: 3,\n",
              " 3.8819: 3,\n",
              " 5.0866: 3,\n",
              " 2.8203: 3,\n",
              " 2.6087: 3,\n",
              " 1.7159: 3,\n",
              " 1.7679: 3,\n",
              " 3.015: 3,\n",
              " 4.1042: 3,\n",
              " 2.6765: 3,\n",
              " 2.15: 3,\n",
              " 2.1974: 3,\n",
              " 1.4722: 3,\n",
              " 4.1806: 3,\n",
              " 4.6607: 3,\n",
              " 3.0078: 3,\n",
              " 4.6957: 3,\n",
              " 2.9479: 3,\n",
              " 1.5972: 3,\n",
              " 2.1771: 3,\n",
              " 3.4187: 3,\n",
              " 3.5278: 3,\n",
              " 3.3816: 3,\n",
              " 1.6429: 3,\n",
              " 3.3571: 3,\n",
              " 2.5437: 3,\n",
              " 2.535: 3,\n",
              " 3.5385: 3,\n",
              " 2.2328: 3,\n",
              " 2.1354: 3,\n",
              " 3.2404: 3,\n",
              " 3.1932: 3,\n",
              " ...}"
            ]
          },
          "metadata": {},
          "execution_count": 31
        }
      ]
    },
    {
      "cell_type": "code",
      "source": [
        "filtered_data = housing[(housing[\"median_income\"] >= 1.5) & (housing[\"median_income\"] <= 6)]\n",
        "\n",
        "num_filtered_samples = len(filtered_data)\n",
        "\n",
        "percentage_filtered_samples = num_filtered_samples / len(housing) * 100\n",
        "\n",
        "percentage_filtered_samples"
      ],
      "metadata": {
        "colab": {
          "base_uri": "https://localhost:8080/"
        },
        "id": "JqKpk0eFFHaf",
        "outputId": "f45f24b7-2b51-4faa-acdb-202ef1ba4e0d"
      },
      "execution_count": 32,
      "outputs": [
        {
          "output_type": "execute_result",
          "data": {
            "text/plain": [
              "84.60755813953489"
            ]
          },
          "metadata": {},
          "execution_count": 32
        }
      ]
    },
    {
      "cell_type": "markdown",
      "source": [
        "Based on these observations, most of the median income values are populated around 1.5 to 6 (i.e., $15k - $60k). However, some median incomes go far beyond 6. It's crucial to have enough #instances in your dataset for each stratum. Otherwise, it'll be biased.\n"
      ],
      "metadata": {
        "id": "3XBM7zPlGjJ6"
      }
    },
    {
      "cell_type": "code",
      "source": [
        "# Create categorical column, namely income_cat\n",
        "\n",
        "# pandas.cut(): https://pandas.pydata.org/docs/reference/api/pandas.cut.html\n",
        "\n",
        "housing[\"income_cat\"] = pd.cut(housing[\"median_income\"],\n",
        "                               bins = [0., 1.5, 3.0, 4.5, 6., np.inf],\n",
        "                               labels = [1, 2, 3, 4, 5])"
      ],
      "metadata": {
        "id": "NHlPOLX3GTeg"
      },
      "execution_count": 33,
      "outputs": []
    },
    {
      "cell_type": "code",
      "source": [
        "housing[\"income_cat\"]"
      ],
      "metadata": {
        "colab": {
          "base_uri": "https://localhost:8080/",
          "height": 458
        },
        "id": "Out96w7-GTcO",
        "outputId": "53fd21cc-2001-42b0-fdfa-b3d2b887c060"
      },
      "execution_count": 34,
      "outputs": [
        {
          "output_type": "execute_result",
          "data": {
            "text/plain": [
              "0        5\n",
              "1        5\n",
              "2        5\n",
              "3        4\n",
              "4        3\n",
              "        ..\n",
              "20635    2\n",
              "20636    2\n",
              "20637    2\n",
              "20638    2\n",
              "20639    2\n",
              "Name: income_cat, Length: 20640, dtype: category\n",
              "Categories (5, int64): [1 < 2 < 3 < 4 < 5]"
            ],
            "text/html": [
              "<div>\n",
              "<style scoped>\n",
              "    .dataframe tbody tr th:only-of-type {\n",
              "        vertical-align: middle;\n",
              "    }\n",
              "\n",
              "    .dataframe tbody tr th {\n",
              "        vertical-align: top;\n",
              "    }\n",
              "\n",
              "    .dataframe thead th {\n",
              "        text-align: right;\n",
              "    }\n",
              "</style>\n",
              "<table border=\"1\" class=\"dataframe\">\n",
              "  <thead>\n",
              "    <tr style=\"text-align: right;\">\n",
              "      <th></th>\n",
              "      <th>income_cat</th>\n",
              "    </tr>\n",
              "  </thead>\n",
              "  <tbody>\n",
              "    <tr>\n",
              "      <th>0</th>\n",
              "      <td>5</td>\n",
              "    </tr>\n",
              "    <tr>\n",
              "      <th>1</th>\n",
              "      <td>5</td>\n",
              "    </tr>\n",
              "    <tr>\n",
              "      <th>2</th>\n",
              "      <td>5</td>\n",
              "    </tr>\n",
              "    <tr>\n",
              "      <th>3</th>\n",
              "      <td>4</td>\n",
              "    </tr>\n",
              "    <tr>\n",
              "      <th>4</th>\n",
              "      <td>3</td>\n",
              "    </tr>\n",
              "    <tr>\n",
              "      <th>...</th>\n",
              "      <td>...</td>\n",
              "    </tr>\n",
              "    <tr>\n",
              "      <th>20635</th>\n",
              "      <td>2</td>\n",
              "    </tr>\n",
              "    <tr>\n",
              "      <th>20636</th>\n",
              "      <td>2</td>\n",
              "    </tr>\n",
              "    <tr>\n",
              "      <th>20637</th>\n",
              "      <td>2</td>\n",
              "    </tr>\n",
              "    <tr>\n",
              "      <th>20638</th>\n",
              "      <td>2</td>\n",
              "    </tr>\n",
              "    <tr>\n",
              "      <th>20639</th>\n",
              "      <td>2</td>\n",
              "    </tr>\n",
              "  </tbody>\n",
              "</table>\n",
              "<p>20640 rows × 1 columns</p>\n",
              "</div><br><label><b>dtype:</b> category</label>"
            ]
          },
          "metadata": {},
          "execution_count": 34
        }
      ]
    },
    {
      "cell_type": "code",
      "source": [
        "housing[\"income_cat\"].value_counts()"
      ],
      "metadata": {
        "colab": {
          "base_uri": "https://localhost:8080/",
          "height": 272
        },
        "id": "3zB-LdzuGTZb",
        "outputId": "639a86e8-e9c8-4e1f-a9d6-bf1085bee3dc"
      },
      "execution_count": 35,
      "outputs": [
        {
          "output_type": "execute_result",
          "data": {
            "text/plain": [
              "income_cat\n",
              "3    7236\n",
              "2    6581\n",
              "4    3639\n",
              "5    2362\n",
              "1     822\n",
              "Name: count, dtype: int64"
            ],
            "text/html": [
              "<div>\n",
              "<style scoped>\n",
              "    .dataframe tbody tr th:only-of-type {\n",
              "        vertical-align: middle;\n",
              "    }\n",
              "\n",
              "    .dataframe tbody tr th {\n",
              "        vertical-align: top;\n",
              "    }\n",
              "\n",
              "    .dataframe thead th {\n",
              "        text-align: right;\n",
              "    }\n",
              "</style>\n",
              "<table border=\"1\" class=\"dataframe\">\n",
              "  <thead>\n",
              "    <tr style=\"text-align: right;\">\n",
              "      <th></th>\n",
              "      <th>count</th>\n",
              "    </tr>\n",
              "    <tr>\n",
              "      <th>income_cat</th>\n",
              "      <th></th>\n",
              "    </tr>\n",
              "  </thead>\n",
              "  <tbody>\n",
              "    <tr>\n",
              "      <th>3</th>\n",
              "      <td>7236</td>\n",
              "    </tr>\n",
              "    <tr>\n",
              "      <th>2</th>\n",
              "      <td>6581</td>\n",
              "    </tr>\n",
              "    <tr>\n",
              "      <th>4</th>\n",
              "      <td>3639</td>\n",
              "    </tr>\n",
              "    <tr>\n",
              "      <th>5</th>\n",
              "      <td>2362</td>\n",
              "    </tr>\n",
              "    <tr>\n",
              "      <th>1</th>\n",
              "      <td>822</td>\n",
              "    </tr>\n",
              "  </tbody>\n",
              "</table>\n",
              "</div><br><label><b>dtype:</b> int64</label>"
            ]
          },
          "metadata": {},
          "execution_count": 35
        }
      ]
    },
    {
      "cell_type": "code",
      "source": [
        "housing[\"income_cat\"].value_counts().sort_index()"
      ],
      "metadata": {
        "colab": {
          "base_uri": "https://localhost:8080/",
          "height": 272
        },
        "id": "Y84LYUaIGTW_",
        "outputId": "60896e1d-eaf5-45c0-c8a2-0077026b3fca"
      },
      "execution_count": 36,
      "outputs": [
        {
          "output_type": "execute_result",
          "data": {
            "text/plain": [
              "income_cat\n",
              "1     822\n",
              "2    6581\n",
              "3    7236\n",
              "4    3639\n",
              "5    2362\n",
              "Name: count, dtype: int64"
            ],
            "text/html": [
              "<div>\n",
              "<style scoped>\n",
              "    .dataframe tbody tr th:only-of-type {\n",
              "        vertical-align: middle;\n",
              "    }\n",
              "\n",
              "    .dataframe tbody tr th {\n",
              "        vertical-align: top;\n",
              "    }\n",
              "\n",
              "    .dataframe thead th {\n",
              "        text-align: right;\n",
              "    }\n",
              "</style>\n",
              "<table border=\"1\" class=\"dataframe\">\n",
              "  <thead>\n",
              "    <tr style=\"text-align: right;\">\n",
              "      <th></th>\n",
              "      <th>count</th>\n",
              "    </tr>\n",
              "    <tr>\n",
              "      <th>income_cat</th>\n",
              "      <th></th>\n",
              "    </tr>\n",
              "  </thead>\n",
              "  <tbody>\n",
              "    <tr>\n",
              "      <th>1</th>\n",
              "      <td>822</td>\n",
              "    </tr>\n",
              "    <tr>\n",
              "      <th>2</th>\n",
              "      <td>6581</td>\n",
              "    </tr>\n",
              "    <tr>\n",
              "      <th>3</th>\n",
              "      <td>7236</td>\n",
              "    </tr>\n",
              "    <tr>\n",
              "      <th>4</th>\n",
              "      <td>3639</td>\n",
              "    </tr>\n",
              "    <tr>\n",
              "      <th>5</th>\n",
              "      <td>2362</td>\n",
              "    </tr>\n",
              "  </tbody>\n",
              "</table>\n",
              "</div><br><label><b>dtype:</b> int64</label>"
            ]
          },
          "metadata": {},
          "execution_count": 36
        }
      ]
    },
    {
      "cell_type": "code",
      "source": [
        "housing[\"income_cat\"].value_counts().sort_index().plot.bar(rot=0, grid=True)"
      ],
      "metadata": {
        "colab": {
          "base_uri": "https://localhost:8080/",
          "height": 467
        },
        "id": "5ZM-Zo70FHWX",
        "outputId": "4a366c5f-327f-4130-e693-bb9c96bff52b"
      },
      "execution_count": 37,
      "outputs": [
        {
          "output_type": "execute_result",
          "data": {
            "text/plain": [
              "<Axes: xlabel='income_cat'>"
            ]
          },
          "metadata": {},
          "execution_count": 37
        },
        {
          "output_type": "display_data",
          "data": {
            "text/plain": [
              "<Figure size 640x480 with 1 Axes>"
            ],
            "image/png": "[encoded data removed]"
          },
          "metadata": {}
        }
      ]
    },
    {
      "cell_type": "markdown",
      "source": [
        "Scikit-Learn provides a number of splitter classes in the `sklearn.model_selection` package that implement various strategies to split your dataset into a training & test set. Each splitter has `split()` function that returns an iterator over different training/test splits of the same data. Particularly, `split()` returns the training and test *indices*, not the data itself."
      ],
      "metadata": {
        "id": "Uu5dKpLDK2vx"
      }
    },
    {
      "cell_type": "code",
      "source": [
        "# Create 10 different stratified splits of housing dataset\n",
        "from sklearn.model_selection import StratifiedShuffleSplit\n",
        "\n",
        "splitter = StratifiedShuffleSplit(n_splits=10, test_size=0.2, random_state=42)\n",
        "strat_splits = []\n",
        "for train_index, test_index in splitter.split(housing, housing[\"income_cat\"]):\n",
        "  strat_train_set = housing.iloc[train_index]\n",
        "  strat_test_set = housing.iloc[test_index]\n",
        "  strat_splits.append([strat_train_set, strat_test_set])"
      ],
      "metadata": {
        "id": "jd9mExAMKzxs"
      },
      "execution_count": 38,
      "outputs": []
    },
    {
      "cell_type": "code",
      "source": [
        "len(strat_splits)"
      ],
      "metadata": {
        "colab": {
          "base_uri": "https://localhost:8080/"
        },
        "id": "PoKWoP9zKzvc",
        "outputId": "0869eaf8-11e7-4e9f-e14b-0c44dbb56d99"
      },
      "execution_count": 39,
      "outputs": [
        {
          "output_type": "execute_result",
          "data": {
            "text/plain": [
              "10"
            ]
          },
          "metadata": {},
          "execution_count": 39
        }
      ]
    },
    {
      "cell_type": "code",
      "source": [
        "len(strat_splits[0])"
      ],
      "metadata": {
        "colab": {
          "base_uri": "https://localhost:8080/"
        },
        "id": "1wwSqUKoKzfi",
        "outputId": "bf7c742c-a9a0-43f8-d051-0197b31a92aa"
      },
      "execution_count": 40,
      "outputs": [
        {
          "output_type": "execute_result",
          "data": {
            "text/plain": [
              "2"
            ]
          },
          "metadata": {},
          "execution_count": 40
        }
      ]
    },
    {
      "cell_type": "code",
      "source": [
        "len(strat_splits[0][0]) # 80%"
      ],
      "metadata": {
        "colab": {
          "base_uri": "https://localhost:8080/"
        },
        "id": "gDjC8pdJKzcu",
        "outputId": "34d9c385-2abd-4674-8fff-4e02f3bc2d9e"
      },
      "execution_count": 41,
      "outputs": [
        {
          "output_type": "execute_result",
          "data": {
            "text/plain": [
              "16512"
            ]
          },
          "metadata": {},
          "execution_count": 41
        }
      ]
    },
    {
      "cell_type": "code",
      "source": [
        "# Get a single split using train_test_split() with stratify argument\n",
        "strat_train_set, strat_test_set = train_test_split(housing, test_size=0.2, stratify=housing[\"income_cat\"], random_state=42)"
      ],
      "metadata": {
        "id": "PwqzLhOpKzah"
      },
      "execution_count": 42,
      "outputs": []
    },
    {
      "cell_type": "code",
      "source": [
        "strat_test_set[\"income_cat\"]"
      ],
      "metadata": {
        "colab": {
          "base_uri": "https://localhost:8080/",
          "height": 458
        },
        "id": "8wzc_Z7yKzXT",
        "outputId": "c26fa8a5-5bec-4769-a6e4-9dc3f96d27fb"
      },
      "execution_count": 43,
      "outputs": [
        {
          "output_type": "execute_result",
          "data": {
            "text/plain": [
              "3905     5\n",
              "16821    4\n",
              "2900     3\n",
              "7193     3\n",
              "13928    3\n",
              "        ..\n",
              "12369    2\n",
              "8707     2\n",
              "16634    4\n",
              "9779     4\n",
              "3455     3\n",
              "Name: income_cat, Length: 4128, dtype: category\n",
              "Categories (5, int64): [1 < 2 < 3 < 4 < 5]"
            ],
            "text/html": [
              "<div>\n",
              "<style scoped>\n",
              "    .dataframe tbody tr th:only-of-type {\n",
              "        vertical-align: middle;\n",
              "    }\n",
              "\n",
              "    .dataframe tbody tr th {\n",
              "        vertical-align: top;\n",
              "    }\n",
              "\n",
              "    .dataframe thead th {\n",
              "        text-align: right;\n",
              "    }\n",
              "</style>\n",
              "<table border=\"1\" class=\"dataframe\">\n",
              "  <thead>\n",
              "    <tr style=\"text-align: right;\">\n",
              "      <th></th>\n",
              "      <th>income_cat</th>\n",
              "    </tr>\n",
              "  </thead>\n",
              "  <tbody>\n",
              "    <tr>\n",
              "      <th>3905</th>\n",
              "      <td>5</td>\n",
              "    </tr>\n",
              "    <tr>\n",
              "      <th>16821</th>\n",
              "      <td>4</td>\n",
              "    </tr>\n",
              "    <tr>\n",
              "      <th>2900</th>\n",
              "      <td>3</td>\n",
              "    </tr>\n",
              "    <tr>\n",
              "      <th>7193</th>\n",
              "      <td>3</td>\n",
              "    </tr>\n",
              "    <tr>\n",
              "      <th>13928</th>\n",
              "      <td>3</td>\n",
              "    </tr>\n",
              "    <tr>\n",
              "      <th>...</th>\n",
              "      <td>...</td>\n",
              "    </tr>\n",
              "    <tr>\n",
              "      <th>12369</th>\n",
              "      <td>2</td>\n",
              "    </tr>\n",
              "    <tr>\n",
              "      <th>8707</th>\n",
              "      <td>2</td>\n",
              "    </tr>\n",
              "    <tr>\n",
              "      <th>16634</th>\n",
              "      <td>4</td>\n",
              "    </tr>\n",
              "    <tr>\n",
              "      <th>9779</th>\n",
              "      <td>4</td>\n",
              "    </tr>\n",
              "    <tr>\n",
              "      <th>3455</th>\n",
              "      <td>3</td>\n",
              "    </tr>\n",
              "  </tbody>\n",
              "</table>\n",
              "<p>4128 rows × 1 columns</p>\n",
              "</div><br><label><b>dtype:</b> category</label>"
            ]
          },
          "metadata": {},
          "execution_count": 43
        }
      ]
    },
    {
      "cell_type": "code",
      "source": [
        "strat_test_set[\"income_cat\"].value_counts()"
      ],
      "metadata": {
        "colab": {
          "base_uri": "https://localhost:8080/",
          "height": 272
        },
        "id": "bQzeAjQyFHT9",
        "outputId": "919e3622-1e0f-4c60-bacb-0a795127491f"
      },
      "execution_count": 44,
      "outputs": [
        {
          "output_type": "execute_result",
          "data": {
            "text/plain": [
              "income_cat\n",
              "3    1447\n",
              "2    1316\n",
              "4     728\n",
              "5     472\n",
              "1     165\n",
              "Name: count, dtype: int64"
            ],
            "text/html": [
              "<div>\n",
              "<style scoped>\n",
              "    .dataframe tbody tr th:only-of-type {\n",
              "        vertical-align: middle;\n",
              "    }\n",
              "\n",
              "    .dataframe tbody tr th {\n",
              "        vertical-align: top;\n",
              "    }\n",
              "\n",
              "    .dataframe thead th {\n",
              "        text-align: right;\n",
              "    }\n",
              "</style>\n",
              "<table border=\"1\" class=\"dataframe\">\n",
              "  <thead>\n",
              "    <tr style=\"text-align: right;\">\n",
              "      <th></th>\n",
              "      <th>count</th>\n",
              "    </tr>\n",
              "    <tr>\n",
              "      <th>income_cat</th>\n",
              "      <th></th>\n",
              "    </tr>\n",
              "  </thead>\n",
              "  <tbody>\n",
              "    <tr>\n",
              "      <th>3</th>\n",
              "      <td>1447</td>\n",
              "    </tr>\n",
              "    <tr>\n",
              "      <th>2</th>\n",
              "      <td>1316</td>\n",
              "    </tr>\n",
              "    <tr>\n",
              "      <th>4</th>\n",
              "      <td>728</td>\n",
              "    </tr>\n",
              "    <tr>\n",
              "      <th>5</th>\n",
              "      <td>472</td>\n",
              "    </tr>\n",
              "    <tr>\n",
              "      <th>1</th>\n",
              "      <td>165</td>\n",
              "    </tr>\n",
              "  </tbody>\n",
              "</table>\n",
              "</div><br><label><b>dtype:</b> int64</label>"
            ]
          },
          "metadata": {},
          "execution_count": 44
        }
      ]
    },
    {
      "cell_type": "code",
      "source": [
        "strat_test_set[\"income_cat\"].value_counts() / len(strat_test_set)"
      ],
      "metadata": {
        "id": "PI2BrVa6hA3a",
        "colab": {
          "base_uri": "https://localhost:8080/",
          "height": 272
        },
        "outputId": "acc46edb-77d3-4886-bcc6-3d20a313f6ca"
      },
      "execution_count": 45,
      "outputs": [
        {
          "output_type": "execute_result",
          "data": {
            "text/plain": [
              "income_cat\n",
              "3    0.350533\n",
              "2    0.318798\n",
              "4    0.176357\n",
              "5    0.114341\n",
              "1    0.039971\n",
              "Name: count, dtype: float64"
            ],
            "text/html": [
              "<div>\n",
              "<style scoped>\n",
              "    .dataframe tbody tr th:only-of-type {\n",
              "        vertical-align: middle;\n",
              "    }\n",
              "\n",
              "    .dataframe tbody tr th {\n",
              "        vertical-align: top;\n",
              "    }\n",
              "\n",
              "    .dataframe thead th {\n",
              "        text-align: right;\n",
              "    }\n",
              "</style>\n",
              "<table border=\"1\" class=\"dataframe\">\n",
              "  <thead>\n",
              "    <tr style=\"text-align: right;\">\n",
              "      <th></th>\n",
              "      <th>count</th>\n",
              "    </tr>\n",
              "    <tr>\n",
              "      <th>income_cat</th>\n",
              "      <th></th>\n",
              "    </tr>\n",
              "  </thead>\n",
              "  <tbody>\n",
              "    <tr>\n",
              "      <th>3</th>\n",
              "      <td>0.350533</td>\n",
              "    </tr>\n",
              "    <tr>\n",
              "      <th>2</th>\n",
              "      <td>0.318798</td>\n",
              "    </tr>\n",
              "    <tr>\n",
              "      <th>4</th>\n",
              "      <td>0.176357</td>\n",
              "    </tr>\n",
              "    <tr>\n",
              "      <th>5</th>\n",
              "      <td>0.114341</td>\n",
              "    </tr>\n",
              "    <tr>\n",
              "      <th>1</th>\n",
              "      <td>0.039971</td>\n",
              "    </tr>\n",
              "  </tbody>\n",
              "</table>\n",
              "</div><br><label><b>dtype:</b> float64</label>"
            ]
          },
          "metadata": {},
          "execution_count": 45
        }
      ]
    },
    {
      "cell_type": "code",
      "source": [
        "housing[\"income_cat\"].value_counts() / len(housing)"
      ],
      "metadata": {
        "colab": {
          "base_uri": "https://localhost:8080/",
          "height": 272
        },
        "id": "0xvlhDRfWuAX",
        "outputId": "e2c52f2e-3c54-46c6-b55c-93fe970c10c2"
      },
      "execution_count": 46,
      "outputs": [
        {
          "output_type": "execute_result",
          "data": {
            "text/plain": [
              "income_cat\n",
              "3    0.350581\n",
              "2    0.318847\n",
              "4    0.176308\n",
              "5    0.114438\n",
              "1    0.039826\n",
              "Name: count, dtype: float64"
            ],
            "text/html": [
              "<div>\n",
              "<style scoped>\n",
              "    .dataframe tbody tr th:only-of-type {\n",
              "        vertical-align: middle;\n",
              "    }\n",
              "\n",
              "    .dataframe tbody tr th {\n",
              "        vertical-align: top;\n",
              "    }\n",
              "\n",
              "    .dataframe thead th {\n",
              "        text-align: right;\n",
              "    }\n",
              "</style>\n",
              "<table border=\"1\" class=\"dataframe\">\n",
              "  <thead>\n",
              "    <tr style=\"text-align: right;\">\n",
              "      <th></th>\n",
              "      <th>count</th>\n",
              "    </tr>\n",
              "    <tr>\n",
              "      <th>income_cat</th>\n",
              "      <th></th>\n",
              "    </tr>\n",
              "  </thead>\n",
              "  <tbody>\n",
              "    <tr>\n",
              "      <th>3</th>\n",
              "      <td>0.350581</td>\n",
              "    </tr>\n",
              "    <tr>\n",
              "      <th>2</th>\n",
              "      <td>0.318847</td>\n",
              "    </tr>\n",
              "    <tr>\n",
              "      <th>4</th>\n",
              "      <td>0.176308</td>\n",
              "    </tr>\n",
              "    <tr>\n",
              "      <th>5</th>\n",
              "      <td>0.114438</td>\n",
              "    </tr>\n",
              "    <tr>\n",
              "      <th>1</th>\n",
              "      <td>0.039826</td>\n",
              "    </tr>\n",
              "  </tbody>\n",
              "</table>\n",
              "</div><br><label><b>dtype:</b> float64</label>"
            ]
          },
          "metadata": {},
          "execution_count": 46
        }
      ]
    },
    {
      "cell_type": "markdown",
      "source": [
        "Stratified Sampling seems worked as expected!\n",
        "See the Figure 2-10. in textbook for Sampling bias comparison of stratified versus purely random sampling"
      ],
      "metadata": {
        "id": "ARUDZ-ByXvk2"
      }
    },
    {
      "cell_type": "markdown",
      "source": [
        "`income_cat` column is only used for \"stratification\". It won't be longer needed, so I drop this column."
      ],
      "metadata": {
        "id": "8gJODj23Z3g0"
      }
    },
    {
      "cell_type": "code",
      "source": [
        "# strat_train_set = strat_train_set.drop(\"income_cat\", axis=1)\n",
        "# strat_test_set = strat_test_set.drop(\"income_cat\", axis=1)"
      ],
      "metadata": {
        "id": "eEIT9-LEacR4"
      },
      "execution_count": 47,
      "outputs": []
    },
    {
      "cell_type": "code",
      "source": [
        "for set_ in (strat_train_set, strat_test_set):\n",
        "  set_.drop(\"income_cat\", axis=1, inplace=True)"
      ],
      "metadata": {
        "id": "NGOsXmlKWt9-"
      },
      "execution_count": 48,
      "outputs": []
    },
    {
      "cell_type": "markdown",
      "source": [
        "Note that many of these ideas for test set generation will be useful for cross-validation."
      ],
      "metadata": {
        "id": "Shsvt8W8alPy"
      }
    },
    {
      "cell_type": "code",
      "source": [],
      "metadata": {
        "id": "EMvhWBQlWt79"
      },
      "execution_count": 48,
      "outputs": []
    },
    {
      "cell_type": "code",
      "source": [],
      "metadata": {
        "id": "baxJf8yQWt5o"
      },
      "execution_count": 48,
      "outputs": []
    },
    {
      "cell_type": "code",
      "source": [],
      "metadata": {
        "id": "Zl5GE5pYWHxJ"
      },
      "execution_count": 48,
      "outputs": []
    },
    {
      "cell_type": "code",
      "source": [],
      "metadata": {
        "id": "GPkcrfzHWH0N"
      },
      "execution_count": 48,
      "outputs": []
    },
    {
      "cell_type": "code",
      "source": [],
      "metadata": {
        "id": "zlKzFCmMWGkm"
      },
      "execution_count": 48,
      "outputs": []
    },
    {
      "cell_type": "code",
      "source": [],
      "metadata": {
        "id": "e6fv-LY6WGuB"
      },
      "execution_count": 48,
      "outputs": []
    },
    {
      "cell_type": "code",
      "source": [],
      "metadata": {
        "id": "_RxvHQdUWFoz"
      },
      "execution_count": 48,
      "outputs": []
    },
    {
      "cell_type": "code",
      "source": [],
      "metadata": {
        "id": "sZfJCx48hA1S"
      },
      "execution_count": 48,
      "outputs": []
    }
  ]
}